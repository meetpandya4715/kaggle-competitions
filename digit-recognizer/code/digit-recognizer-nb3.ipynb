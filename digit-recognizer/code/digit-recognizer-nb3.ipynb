{
 "cells": [
  {
   "cell_type": "code",
   "execution_count": 2,
   "metadata": {
    "_cell_guid": "b1076dfc-b9ad-4769-8c92-a6c4dae69d19",
    "_uuid": "8f2839f25d086af736a60e9eeb907d3b93b6e0e5"
   },
   "outputs": [
    {
     "name": "stdout",
     "output_type": "stream",
     "text": [
      "../data/sample_submission.csv\n",
      "../data/test.csv\n",
      "../data/train.csv\n"
     ]
    }
   ],
   "source": [
    "# This Python 3 environment comes with many helpful analytics libraries installed\n",
    "# It is defined by the kaggle/python Docker image: https://github.com/kaggle/docker-python\n",
    "# For example, here's several helpful packages to load\n",
    "\n",
    "import numpy as np # linear algebra\n",
    "import pandas as pd # data processing, CSV file I/O (e.g. pd.read_csv)\n",
    "\n",
    "# Input data files are available in the read-only \"../input/\" directory\n",
    "# For example, running this (by clicking run or pressing Shift+Enter) will list all files under the input directory\n",
    "\n",
    "import os\n",
    "for dirname, _, filenames in os.walk('../data/'):\n",
    "    for filename in filenames:\n",
    "        print(os.path.join(dirname, filename))\n",
    "\n",
    "# You can write up to 20GB to the current directory (/kaggle/working/) that gets preserved as output when you create a version using \"Save & Run All\" \n",
    "# You can also write temporary files to /kaggle/temp/, but they won't be saved outside of the current session"
   ]
  },
  {
   "cell_type": "code",
   "execution_count": 44,
   "metadata": {},
   "outputs": [],
   "source": [
    "import torch\n",
    "from torch import nn\n",
    "from torch.utils.data import Dataset, random_split, DataLoader\n",
    "from torchvision.transforms import ToTensor, Lambda, Normalize, Compose\n",
    "from torch.optim.lr_scheduler import ReduceLROnPlateau\n",
    "\n",
    "from torchinfo import summary\n",
    "\n",
    "import matplotlib.pyplot as plt\n",
    "\n",
    "from tqdm.notebook import tqdm\n",
    "from tqdm import trange"
   ]
  },
  {
   "cell_type": "code",
   "execution_count": 4,
   "metadata": {},
   "outputs": [],
   "source": [
    "class CustomDataset(Dataset):\n",
    "    def __init__(self, input_file, device=torch.device('cpu'), image_size=(28,28), num_labels=10, train=True):\n",
    "        self.df = pd.read_csv(input_file)\n",
    "        self.image_size = image_size\n",
    "        self.train = train\n",
    "        self.device = device\n",
    "        # print(input_file, image_size, num_labels, train)\n",
    "        self.transform = Compose([\n",
    "            ToTensor(),\n",
    "            Normalize((0.5,), (0.5,))\n",
    "        ])\n",
    "        self.target_transform_bkp = Lambda(\n",
    "            lambda y: torch.zeros(num_labels, dtype=torch.float).scatter_(0,torch.tensor(y), value=1)\n",
    "        )\n",
    "        self.target_transform = Lambda(\n",
    "            lambda y: torch.tensor(y, dtype=torch.long)\n",
    "        )\n",
    "        \n",
    "\n",
    "    def __len__(self):\n",
    "        return len(self.df)\n",
    "    \n",
    "    def __getitem__(self, idx):\n",
    "        input_image, input_label = None, None\n",
    "        if(self.train):\n",
    "            input_image = self.df.iloc[idx, 1:].to_numpy().reshape(self.image_size)\n",
    "            input_label = self.df.iloc[idx, 0]\n",
    "        else:\n",
    "            input_image = self.df.iloc[idx, :].to_numpy().reshape(self.image_size)\n",
    "\n",
    "        input_image = input_image.astype(np.float32)\n",
    "        input_image = self.transform(input_image).to(torch.float).to(device)\n",
    "        if(input_label is not None):input_label = self.target_transform(input_label).to(device)\n",
    "\n",
    "        # print(input_image.dtype)\n",
    "\n",
    "        return {\n",
    "            \"image\": input_image, \"label\":input_label\n",
    "        }\n"
   ]
  },
  {
   "cell_type": "code",
   "execution_count": 5,
   "metadata": {},
   "outputs": [],
   "source": [
    "def evaluate(model, dataloader, loss_fn, batch_size, evaluation_prefix=''):\n",
    "    model.eval()\n",
    "    \n",
    "    loss, correct = 0, 0\n",
    "    dataset_size = len(dataloader.dataset)\n",
    "    num_batches = len(dataloader)\n",
    "    \n",
    "    with torch.no_grad():\n",
    "        for input_batch in tqdm(dataloader, dynamic_ncols=True, desc=f\"{evaluation_prefix} Evaluate\", leave=False): #\n",
    "            images, labels = input_batch['image'], input_batch['label']\n",
    "    \n",
    "            logits = model(images)\n",
    "            # probabilities = nn.functional.softmax(logits, dim=1)\n",
    "            \n",
    "            loss += loss_fn(logits, labels)\n",
    "            correct += ( logits.argmax(1) == labels ).type(torch.float).sum().item()\n",
    "\n",
    "        loss /= num_batches\n",
    "        correct /= dataset_size\n",
    "\n",
    "        print(f\"{evaluation_prefix} Evaluation : loss={loss.item():>8f} Accuracy={correct*100:>.1f} %\")\n",
    "\n",
    "    model.train()\n",
    "\n",
    "    return correct*100, loss"
   ]
  },
  {
   "cell_type": "code",
   "execution_count": 6,
   "metadata": {},
   "outputs": [],
   "source": [
    "!mkdir ./modelWeights/ -p"
   ]
  },
  {
   "cell_type": "code",
   "execution_count": 126,
   "metadata": {},
   "outputs": [],
   "source": [
    "def train(\n",
    "    model,\n",
    "    train_dataloader, val_dataloader,\n",
    "    epochs=1,\n",
    "    learning_rate=1e-3,\n",
    "    epoch_offset=0,\n",
    "    save_checkpoint=True\n",
    "):\n",
    "    dataset_size = len(train_dataloader.dataset)\n",
    "    loss = 0 # binary cross entropy\n",
    "    loss_fn = nn.CrossEntropyLoss()\n",
    "    optimizer = None # Adam, RMSProp\n",
    "    optimizer = torch.optim.SGD(model.parameters(), lr=learning_rate)\n",
    "    scheduler = ReduceLROnPlateau(optimizer, factor=0.5, patience=3)\n",
    "    \n",
    "    model.train()\n",
    "    for eidx in range(1,epochs+1):\n",
    "        # print(f\"Epoch: {eidx}\")\n",
    "        pbar = tqdm(train_dataloader, desc=f\"Epoch: {eidx+epoch_offset}\", dynamic_ncols=True)\n",
    "        for batch, input_batch in enumerate(pbar):\n",
    "            images, labels = input_batch['image'], input_batch['label']\n",
    "    \n",
    "            logits = model(images)\n",
    "            # probabilities = nn.functional.softmax(logits, dim=1)\n",
    "\n",
    "            loss = loss_fn(logits, labels)\n",
    "\n",
    "            loss.backward()\n",
    "            optimizer.step()\n",
    "            optimizer.zero_grad()\n",
    "\n",
    "            if(batch % 10 == 0):\n",
    "                loss_value = loss.item()\n",
    "                pbar.set_postfix_str(f\"loss: {loss_value:>7f}\")\n",
    "                # current = batch*batch_size+len(images)\n",
    "                # print(f\"epoch : {eidx}:{current*100/dataset_size:02.2f}, train loss : {loss_value}, \")\n",
    "                # print(f\"loss: {loss_value:>7f}  [{current:>5d}/{dataset_size:>5d}]\")\n",
    "                \n",
    "\n",
    "\n",
    "        train_acc, train_loss = evaluate(model, train_dataloader, loss_fn, batch_size, evaluation_prefix=\"Training data\")\n",
    "        val_acc, val_loss = evaluate(model, val_dataloader, loss_fn, batch_size, evaluation_prefix=\"Validation data\")\n",
    "\n",
    "        old_lr = optimizer.param_groups[0]['lr']\n",
    "        scheduler.step(val_loss)\n",
    "        new_lr = optimizer.param_groups[0]['lr']\n",
    "        \n",
    "        print(f\"lr : {old_lr} -> {new_lr}\")\n",
    "\n",
    "        if(save_checkpoint):\n",
    "            model_output_path = f\"../modelWeights/SimpleCNN_epoch{eidx+epoch_offset:02d}_Acc{val_acc:>.1f}.pth\"\n",
    "            # model_output_path = f\"./modelWeights/SimpleANN_epoch{eidx+epoch_offset:02d}.pth\"\n",
    "            print(f\"saving : {model_output_path}\")\n",
    "            torch.save(model.state_dict(), model_output_path)"
   ]
  },
  {
   "cell_type": "code",
   "execution_count": 127,
   "metadata": {},
   "outputs": [],
   "source": [
    "def predict(model, device, dataset):\n",
    "    model.eval()\n",
    "    outputs = pd.DataFrame(columns=[\"ImageId\",\"Label\"])\n",
    "    with torch.no_grad():\n",
    "        for idx in tqdm(range(len(dataset)), dynamic_ncols=True, desc=\"Predict\"):\n",
    "            image = dataset[idx]['image'].unsqueeze(0)\n",
    "            logits = model(image)\n",
    "            prob = torch.softmax(logits, dim=1)\n",
    "            pred_class = prob.argmax(1).cpu().item()\n",
    "            outputs.loc[len(outputs)] = [(idx+1), pred_class]\n",
    "\n",
    "    return outputs\n"
   ]
  },
  {
   "cell_type": "code",
   "execution_count": 128,
   "metadata": {},
   "outputs": [],
   "source": [
    "def showData(dataset):\n",
    "    cols, rows = 5, 5\n",
    "\n",
    "    fig = plt.figure(figsize=(10,10))\n",
    "    \n",
    "    for idx in range(1,cols*rows+1):\n",
    "        sample_idx = torch.randint(len(dataset), size=(1,)).item()\n",
    "        sample = dataset[sample_idx]\n",
    "        image, label = sample['image'], sample['label']\n",
    "        sub_title = label.item() if(label is not None) else idx \n",
    "        fig.add_subplot(rows, cols, idx)\n",
    "        plt.title(sub_title)\n",
    "        plt.axis('off')\n",
    "        plt.imshow(image.squeeze().cpu(), cmap='gray')\n"
   ]
  },
  {
   "cell_type": "code",
   "execution_count": 129,
   "metadata": {},
   "outputs": [],
   "source": [
    "class SimpleANN(nn.Module):\n",
    "    def __init__(self, input_image_size=(28,28)):\n",
    "        super().__init__()\n",
    "        self.flatten = nn.Flatten()\n",
    "        self.LinearRelu_1 = nn.Sequential(\n",
    "            nn.Linear(input_image_size[0]*input_image_size[1], 512),\n",
    "            nn.Dropout(0.2),\n",
    "            nn.ReLU()\n",
    "        )\n",
    "        self.LinearRelu_2 = nn.Sequential(\n",
    "            nn.Linear(512, 512),\n",
    "            nn.Dropout(0.2),\n",
    "            nn.ReLU()\n",
    "        )\n",
    "        self.Linear_out = nn.Linear(512, 10)\n",
    "\n",
    "    def forward(self, x):\n",
    "        x = self.flatten(x)\n",
    "        x = self.LinearRelu_1(x)\n",
    "        x = self.LinearRelu_2(x)\n",
    "        logits = self.Linear_out(x)\n",
    "        \n",
    "        return logits\n"
   ]
  },
  {
   "cell_type": "code",
   "execution_count": 52,
   "metadata": {},
   "outputs": [],
   "source": [
    "class ConvBnReLU(nn.Module):\n",
    "    def __init__(self, in_channels, out_channels, kernel_size=3, padding=0):\n",
    "        super().__init__()\n",
    "        self.convbnrelu = nn.Sequential(\n",
    "            nn.Conv2d(in_channels, out_channels, (kernel_size,)*2, padding=padding),\n",
    "            nn.BatchNorm2d(out_channels),\n",
    "            nn.ReLU()\n",
    "        )\n",
    "\n",
    "    def forward(self, x):\n",
    "        x = self.convbnrelu(x)\n",
    "        return x\n",
    "        \n",
    "\n",
    "class SimpleCNN(nn.Module):\n",
    "    def __init__(self):\n",
    "        super().__init__()\n",
    "        self.convbnrelu_1 = ConvBnReLU(1,8,3,1)\n",
    "        self.down1 = nn.MaxPool2d(2)\n",
    "        self.convbnrelu_2 = ConvBnReLU(8,64,3,1)\n",
    "        self.down2 = nn.MaxPool2d(2)\n",
    "        self.flatten = nn.Flatten()\n",
    "        self.linearRelu_1 = nn.Sequential(\n",
    "            nn.Linear(3136, 512),\n",
    "            # nn.Dropout(0.2),\n",
    "            nn.ReLU()\n",
    "        )\n",
    "        self.linear_out = nn.Linear(512, 10)\n",
    "\n",
    "    def forward(self, x):\n",
    "        x = self.convbnrelu_1(x) # [n,1,28,28] --> [n,8,28,28]\n",
    "        x = self.down1(x) # [n,8,28,28] --> [n,8,14,14]\n",
    "        x = self.convbnrelu_2(x) # [n,8,14,14] --> [n,64,14,14]\n",
    "        x = self.down2(x) # [n,64,14,14] --> [n,64,7,7]\n",
    "        x = self.flatten(x) # [n,64,7,7] --> [n, 3136]\n",
    "        x = self.linearRelu_1(x)\n",
    "        x = self.linear_out(x)\n",
    "        \n",
    "        return x"
   ]
  },
  {
   "cell_type": "code",
   "execution_count": 53,
   "metadata": {},
   "outputs": [],
   "source": [
    "# 64*7*7"
   ]
  },
  {
   "cell_type": "code",
   "execution_count": 54,
   "metadata": {},
   "outputs": [
    {
     "data": {
      "text/plain": [
       "==========================================================================================\n",
       "Layer (type:depth-idx)                   Output Shape              Param #\n",
       "==========================================================================================\n",
       "SimpleCNN                                [1, 10]                   --\n",
       "├─ConvBnReLU: 1-1                        [1, 8, 28, 28]            --\n",
       "│    └─Sequential: 2-1                   [1, 8, 28, 28]            --\n",
       "│    │    └─Conv2d: 3-1                  [1, 8, 28, 28]            80\n",
       "│    │    └─BatchNorm2d: 3-2             [1, 8, 28, 28]            16\n",
       "│    │    └─ReLU: 3-3                    [1, 8, 28, 28]            --\n",
       "├─MaxPool2d: 1-2                         [1, 8, 14, 14]            --\n",
       "├─ConvBnReLU: 1-3                        [1, 64, 14, 14]           --\n",
       "│    └─Sequential: 2-2                   [1, 64, 14, 14]           --\n",
       "│    │    └─Conv2d: 3-4                  [1, 64, 14, 14]           4,672\n",
       "│    │    └─BatchNorm2d: 3-5             [1, 64, 14, 14]           128\n",
       "│    │    └─ReLU: 3-6                    [1, 64, 14, 14]           --\n",
       "├─MaxPool2d: 1-4                         [1, 64, 7, 7]             --\n",
       "├─Flatten: 1-5                           [1, 3136]                 --\n",
       "├─Sequential: 1-6                        [1, 512]                  --\n",
       "│    └─Linear: 2-3                       [1, 512]                  1,606,144\n",
       "│    └─ReLU: 2-4                         [1, 512]                  --\n",
       "├─Linear: 1-7                            [1, 10]                   5,130\n",
       "==========================================================================================\n",
       "Total params: 1,616,170\n",
       "Trainable params: 1,616,170\n",
       "Non-trainable params: 0\n",
       "Total mult-adds (Units.MEGABYTES): 2.59\n",
       "==========================================================================================\n",
       "Input size (MB): 0.00\n",
       "Forward/backward pass size (MB): 0.31\n",
       "Params size (MB): 6.46\n",
       "Estimated Total Size (MB): 6.77\n",
       "=========================================================================================="
      ]
     },
     "execution_count": 54,
     "metadata": {},
     "output_type": "execute_result"
    }
   ],
   "source": [
    "cnn_model = SimpleCNN()\n",
    "\n",
    "summary(cnn_model, input_size=(1,1,28,28))"
   ]
  },
  {
   "cell_type": "code",
   "execution_count": 56,
   "metadata": {},
   "outputs": [
    {
     "data": {
      "text/plain": [
       "device(type='cuda')"
      ]
     },
     "execution_count": 56,
     "metadata": {},
     "output_type": "execute_result"
    }
   ],
   "source": [
    "device = torch.device('cuda') if torch.cuda.is_available() else torch.device('cpu')\n",
    "device\n"
   ]
  },
  {
   "cell_type": "code",
   "execution_count": 57,
   "metadata": {},
   "outputs": [],
   "source": [
    "# !ls /kaggle/input/digitrecognizer_simpleann_1/pytorch/default/1/"
   ]
  },
  {
   "cell_type": "code",
   "execution_count": 58,
   "metadata": {},
   "outputs": [],
   "source": [
    "batch_size=64\n",
    "loss_fn = nn.CrossEntropyLoss()"
   ]
  },
  {
   "cell_type": "code",
   "execution_count": 59,
   "metadata": {},
   "outputs": [],
   "source": [
    "dataset = CustomDataset(input_file='../data/train.csv', device=device, train=True)"
   ]
  },
  {
   "cell_type": "code",
   "execution_count": 60,
   "metadata": {},
   "outputs": [],
   "source": [
    "val_perc = 0.2\n",
    "train_perc = 1 - val_perc\n",
    "\n",
    "generator = torch.Generator().manual_seed(42)\n",
    "train_dataset, val_dataset = random_split(dataset, [train_perc, val_perc], generator)\n",
    "\n",
    "train_dataloader = DataLoader(train_dataset, batch_size=64, shuffle=True)\n",
    "val_dataloader = DataLoader(val_dataset, batch_size=64, shuffle=True)"
   ]
  },
  {
   "cell_type": "code",
   "execution_count": 61,
   "metadata": {},
   "outputs": [],
   "source": [
    "input_batch = dataset[0]"
   ]
  },
  {
   "cell_type": "code",
   "execution_count": 122,
   "metadata": {},
   "outputs": [
    {
     "data": {
      "application/vnd.jupyter.widget-view+json": {
       "model_id": "",
       "version_major": 2,
       "version_minor": 0
      },
      "text/plain": [
       "Validation data Evaluate:   0%|                                  | 0/132 [00:00<?, ?it/s]"
      ]
     },
     "metadata": {},
     "output_type": "display_data"
    },
    {
     "name": "stdout",
     "output_type": "stream",
     "text": [
      "Validation data Evaluation : loss=22.835941 Accuracy=13.5 %\n"
     ]
    }
   ],
   "source": [
    "# model = SimpleANN()\n",
    "model = SimpleCNN()\n",
    "model.to(device)\n",
    "evaluate(model, val_dataloader, loss_fn, batch_size, \"Validation data\");"
   ]
  },
  {
   "cell_type": "code",
   "execution_count": 123,
   "metadata": {},
   "outputs": [],
   "source": [
    "!rm -rf ../modelWeights/*.pth"
   ]
  },
  {
   "cell_type": "code",
   "execution_count": 124,
   "metadata": {},
   "outputs": [],
   "source": [
    "final_dataset = CustomDataset(\"../data/train.csv\", device=device, train=True)\n",
    "final_train_dataset, final_val_dataset = random_split(dataset, [0.8, 0.2])\n",
    "\n",
    "final_train_dataloader = DataLoader(final_train_dataset, batch_size=64, shuffle=True)\n",
    "final_val_dataloader = DataLoader(final_val_dataset, batch_size=64, shuffle=True)"
   ]
  },
  {
   "cell_type": "code",
   "execution_count": 125,
   "metadata": {},
   "outputs": [
    {
     "data": {
      "text/plain": [
       "(42000, 33600, 8400)"
      ]
     },
     "execution_count": 125,
     "metadata": {},
     "output_type": "execute_result"
    }
   ],
   "source": [
    "len(final_dataset), len(final_train_dataset), len(final_val_dataset)"
   ]
  },
  {
   "cell_type": "code",
   "execution_count": 130,
   "metadata": {},
   "outputs": [
    {
     "data": {
      "application/vnd.jupyter.widget-view+json": {
       "model_id": "e5839db10a1f4b8e826045e7d9683fcd",
       "version_major": 2,
       "version_minor": 0
      },
      "text/plain": [
       "Epoch: 1:   0%|                                                  | 0/525 [00:00<?, ?it/s]"
      ]
     },
     "metadata": {},
     "output_type": "display_data"
    },
    {
     "data": {
      "application/vnd.jupyter.widget-view+json": {
       "model_id": "",
       "version_major": 2,
       "version_minor": 0
      },
      "text/plain": [
       "Training data Evaluate:   0%|                                    | 0/525 [00:00<?, ?it/s]"
      ]
     },
     "metadata": {},
     "output_type": "display_data"
    },
    {
     "name": "stdout",
     "output_type": "stream",
     "text": [
      "Training data Evaluation : loss=0.679627 Accuracy=88.3 %\n"
     ]
    },
    {
     "data": {
      "application/vnd.jupyter.widget-view+json": {
       "model_id": "",
       "version_major": 2,
       "version_minor": 0
      },
      "text/plain": [
       "Validation data Evaluate:   0%|                                  | 0/132 [00:00<?, ?it/s]"
      ]
     },
     "metadata": {},
     "output_type": "display_data"
    },
    {
     "name": "stdout",
     "output_type": "stream",
     "text": [
      "Validation data Evaluation : loss=0.677427 Accuracy=88.2 %\n",
      "lr : 0.001 -> 0.001\n",
      "saving : ../modelWeights/SimpleCNN_epoch01_Acc88.2.pth\n"
     ]
    },
    {
     "data": {
      "application/vnd.jupyter.widget-view+json": {
       "model_id": "3643fddf26594760b3567ed9ab5416e1",
       "version_major": 2,
       "version_minor": 0
      },
      "text/plain": [
       "Epoch: 2:   0%|                                                  | 0/525 [00:00<?, ?it/s]"
      ]
     },
     "metadata": {},
     "output_type": "display_data"
    },
    {
     "data": {
      "application/vnd.jupyter.widget-view+json": {
       "model_id": "",
       "version_major": 2,
       "version_minor": 0
      },
      "text/plain": [
       "Training data Evaluate:   0%|                                    | 0/525 [00:00<?, ?it/s]"
      ]
     },
     "metadata": {},
     "output_type": "display_data"
    },
    {
     "name": "stdout",
     "output_type": "stream",
     "text": [
      "Training data Evaluation : loss=0.393020 Accuracy=91.6 %\n"
     ]
    },
    {
     "data": {
      "application/vnd.jupyter.widget-view+json": {
       "model_id": "",
       "version_major": 2,
       "version_minor": 0
      },
      "text/plain": [
       "Validation data Evaluate:   0%|                                  | 0/132 [00:00<?, ?it/s]"
      ]
     },
     "metadata": {},
     "output_type": "display_data"
    },
    {
     "name": "stdout",
     "output_type": "stream",
     "text": [
      "Validation data Evaluation : loss=0.392412 Accuracy=92.0 %\n",
      "lr : 0.001 -> 0.001\n",
      "saving : ../modelWeights/SimpleCNN_epoch02_Acc92.0.pth\n"
     ]
    },
    {
     "data": {
      "application/vnd.jupyter.widget-view+json": {
       "model_id": "93699258242a40fb8ff998f6986043d1",
       "version_major": 2,
       "version_minor": 0
      },
      "text/plain": [
       "Epoch: 3:   0%|                                                  | 0/525 [00:00<?, ?it/s]"
      ]
     },
     "metadata": {},
     "output_type": "display_data"
    },
    {
     "data": {
      "application/vnd.jupyter.widget-view+json": {
       "model_id": "",
       "version_major": 2,
       "version_minor": 0
      },
      "text/plain": [
       "Training data Evaluate:   0%|                                    | 0/525 [00:00<?, ?it/s]"
      ]
     },
     "metadata": {},
     "output_type": "display_data"
    },
    {
     "name": "stdout",
     "output_type": "stream",
     "text": [
      "Training data Evaluation : loss=0.296145 Accuracy=93.0 %\n"
     ]
    },
    {
     "data": {
      "application/vnd.jupyter.widget-view+json": {
       "model_id": "",
       "version_major": 2,
       "version_minor": 0
      },
      "text/plain": [
       "Validation data Evaluate:   0%|                                  | 0/132 [00:00<?, ?it/s]"
      ]
     },
     "metadata": {},
     "output_type": "display_data"
    },
    {
     "name": "stdout",
     "output_type": "stream",
     "text": [
      "Validation data Evaluation : loss=0.295897 Accuracy=93.2 %\n",
      "lr : 0.001 -> 0.001\n",
      "saving : ../modelWeights/SimpleCNN_epoch03_Acc93.2.pth\n"
     ]
    },
    {
     "data": {
      "application/vnd.jupyter.widget-view+json": {
       "model_id": "8a0cdae2684243adaed1b9e8fdcce2de",
       "version_major": 2,
       "version_minor": 0
      },
      "text/plain": [
       "Epoch: 4:   0%|                                                  | 0/525 [00:00<?, ?it/s]"
      ]
     },
     "metadata": {},
     "output_type": "display_data"
    },
    {
     "data": {
      "application/vnd.jupyter.widget-view+json": {
       "model_id": "",
       "version_major": 2,
       "version_minor": 0
      },
      "text/plain": [
       "Training data Evaluate:   0%|                                    | 0/525 [00:00<?, ?it/s]"
      ]
     },
     "metadata": {},
     "output_type": "display_data"
    },
    {
     "name": "stdout",
     "output_type": "stream",
     "text": [
      "Training data Evaluation : loss=0.245067 Accuracy=93.9 %\n"
     ]
    },
    {
     "data": {
      "application/vnd.jupyter.widget-view+json": {
       "model_id": "",
       "version_major": 2,
       "version_minor": 0
      },
      "text/plain": [
       "Validation data Evaluate:   0%|                                  | 0/132 [00:00<?, ?it/s]"
      ]
     },
     "metadata": {},
     "output_type": "display_data"
    },
    {
     "name": "stdout",
     "output_type": "stream",
     "text": [
      "Validation data Evaluation : loss=0.244064 Accuracy=94.1 %\n",
      "lr : 0.001 -> 0.001\n",
      "saving : ../modelWeights/SimpleCNN_epoch04_Acc94.1.pth\n"
     ]
    },
    {
     "data": {
      "application/vnd.jupyter.widget-view+json": {
       "model_id": "38f64c4ff4564502995912fdcfbae2aa",
       "version_major": 2,
       "version_minor": 0
      },
      "text/plain": [
       "Epoch: 5:   0%|                                                  | 0/525 [00:00<?, ?it/s]"
      ]
     },
     "metadata": {},
     "output_type": "display_data"
    },
    {
     "data": {
      "application/vnd.jupyter.widget-view+json": {
       "model_id": "",
       "version_major": 2,
       "version_minor": 0
      },
      "text/plain": [
       "Training data Evaluate:   0%|                                    | 0/525 [00:00<?, ?it/s]"
      ]
     },
     "metadata": {},
     "output_type": "display_data"
    },
    {
     "name": "stdout",
     "output_type": "stream",
     "text": [
      "Training data Evaluation : loss=0.215135 Accuracy=94.5 %\n"
     ]
    },
    {
     "data": {
      "application/vnd.jupyter.widget-view+json": {
       "model_id": "",
       "version_major": 2,
       "version_minor": 0
      },
      "text/plain": [
       "Validation data Evaluate:   0%|                                  | 0/132 [00:00<?, ?it/s]"
      ]
     },
     "metadata": {},
     "output_type": "display_data"
    },
    {
     "name": "stdout",
     "output_type": "stream",
     "text": [
      "Validation data Evaluation : loss=0.214473 Accuracy=94.6 %\n",
      "lr : 0.001 -> 0.001\n",
      "saving : ../modelWeights/SimpleCNN_epoch05_Acc94.6.pth\n"
     ]
    },
    {
     "data": {
      "application/vnd.jupyter.widget-view+json": {
       "model_id": "6e9a807c3615467792ab072e4ee3b3d1",
       "version_major": 2,
       "version_minor": 0
      },
      "text/plain": [
       "Epoch: 6:   0%|                                                  | 0/525 [00:00<?, ?it/s]"
      ]
     },
     "metadata": {},
     "output_type": "display_data"
    },
    {
     "data": {
      "application/vnd.jupyter.widget-view+json": {
       "model_id": "",
       "version_major": 2,
       "version_minor": 0
      },
      "text/plain": [
       "Training data Evaluate:   0%|                                    | 0/525 [00:00<?, ?it/s]"
      ]
     },
     "metadata": {},
     "output_type": "display_data"
    },
    {
     "name": "stdout",
     "output_type": "stream",
     "text": [
      "Training data Evaluation : loss=0.192420 Accuracy=95.0 %\n"
     ]
    },
    {
     "data": {
      "application/vnd.jupyter.widget-view+json": {
       "model_id": "",
       "version_major": 2,
       "version_minor": 0
      },
      "text/plain": [
       "Validation data Evaluate:   0%|                                  | 0/132 [00:00<?, ?it/s]"
      ]
     },
     "metadata": {},
     "output_type": "display_data"
    },
    {
     "name": "stdout",
     "output_type": "stream",
     "text": [
      "Validation data Evaluation : loss=0.191755 Accuracy=95.2 %\n",
      "lr : 0.001 -> 0.001\n",
      "saving : ../modelWeights/SimpleCNN_epoch06_Acc95.2.pth\n"
     ]
    },
    {
     "data": {
      "application/vnd.jupyter.widget-view+json": {
       "model_id": "23b6a0dea1fa4c86aa1d1be2b11967d0",
       "version_major": 2,
       "version_minor": 0
      },
      "text/plain": [
       "Epoch: 7:   0%|                                                  | 0/525 [00:00<?, ?it/s]"
      ]
     },
     "metadata": {},
     "output_type": "display_data"
    },
    {
     "data": {
      "application/vnd.jupyter.widget-view+json": {
       "model_id": "",
       "version_major": 2,
       "version_minor": 0
      },
      "text/plain": [
       "Training data Evaluate:   0%|                                    | 0/525 [00:00<?, ?it/s]"
      ]
     },
     "metadata": {},
     "output_type": "display_data"
    },
    {
     "name": "stdout",
     "output_type": "stream",
     "text": [
      "Training data Evaluation : loss=0.173838 Accuracy=95.4 %\n"
     ]
    },
    {
     "data": {
      "application/vnd.jupyter.widget-view+json": {
       "model_id": "",
       "version_major": 2,
       "version_minor": 0
      },
      "text/plain": [
       "Validation data Evaluate:   0%|                                  | 0/132 [00:00<?, ?it/s]"
      ]
     },
     "metadata": {},
     "output_type": "display_data"
    },
    {
     "name": "stdout",
     "output_type": "stream",
     "text": [
      "Validation data Evaluation : loss=0.173375 Accuracy=95.6 %\n",
      "lr : 0.001 -> 0.001\n",
      "saving : ../modelWeights/SimpleCNN_epoch07_Acc95.6.pth\n"
     ]
    },
    {
     "data": {
      "application/vnd.jupyter.widget-view+json": {
       "model_id": "c0fed1b9c1b64d25848236b0bbd38b29",
       "version_major": 2,
       "version_minor": 0
      },
      "text/plain": [
       "Epoch: 8:   0%|                                                  | 0/525 [00:00<?, ?it/s]"
      ]
     },
     "metadata": {},
     "output_type": "display_data"
    },
    {
     "data": {
      "application/vnd.jupyter.widget-view+json": {
       "model_id": "",
       "version_major": 2,
       "version_minor": 0
      },
      "text/plain": [
       "Training data Evaluate:   0%|                                    | 0/525 [00:00<?, ?it/s]"
      ]
     },
     "metadata": {},
     "output_type": "display_data"
    },
    {
     "name": "stdout",
     "output_type": "stream",
     "text": [
      "Training data Evaluation : loss=0.160305 Accuracy=95.7 %\n"
     ]
    },
    {
     "data": {
      "application/vnd.jupyter.widget-view+json": {
       "model_id": "",
       "version_major": 2,
       "version_minor": 0
      },
      "text/plain": [
       "Validation data Evaluate:   0%|                                  | 0/132 [00:00<?, ?it/s]"
      ]
     },
     "metadata": {},
     "output_type": "display_data"
    },
    {
     "name": "stdout",
     "output_type": "stream",
     "text": [
      "Validation data Evaluation : loss=0.162339 Accuracy=95.9 %\n",
      "lr : 0.001 -> 0.001\n",
      "saving : ../modelWeights/SimpleCNN_epoch08_Acc95.9.pth\n"
     ]
    },
    {
     "data": {
      "application/vnd.jupyter.widget-view+json": {
       "model_id": "3b7cd1c5a742464598d1d028520f0238",
       "version_major": 2,
       "version_minor": 0
      },
      "text/plain": [
       "Epoch: 9:   0%|                                                  | 0/525 [00:00<?, ?it/s]"
      ]
     },
     "metadata": {},
     "output_type": "display_data"
    },
    {
     "data": {
      "application/vnd.jupyter.widget-view+json": {
       "model_id": "",
       "version_major": 2,
       "version_minor": 0
      },
      "text/plain": [
       "Training data Evaluate:   0%|                                    | 0/525 [00:00<?, ?it/s]"
      ]
     },
     "metadata": {},
     "output_type": "display_data"
    },
    {
     "name": "stdout",
     "output_type": "stream",
     "text": [
      "Training data Evaluation : loss=0.149219 Accuracy=95.9 %\n"
     ]
    },
    {
     "data": {
      "application/vnd.jupyter.widget-view+json": {
       "model_id": "",
       "version_major": 2,
       "version_minor": 0
      },
      "text/plain": [
       "Validation data Evaluate:   0%|                                  | 0/132 [00:00<?, ?it/s]"
      ]
     },
     "metadata": {},
     "output_type": "display_data"
    },
    {
     "name": "stdout",
     "output_type": "stream",
     "text": [
      "Validation data Evaluation : loss=0.148940 Accuracy=96.1 %\n",
      "lr : 0.001 -> 0.001\n",
      "saving : ../modelWeights/SimpleCNN_epoch09_Acc96.1.pth\n"
     ]
    },
    {
     "data": {
      "application/vnd.jupyter.widget-view+json": {
       "model_id": "f2beb3a6d66546f382751149eed47719",
       "version_major": 2,
       "version_minor": 0
      },
      "text/plain": [
       "Epoch: 10:   0%|                                                 | 0/525 [00:00<?, ?it/s]"
      ]
     },
     "metadata": {},
     "output_type": "display_data"
    },
    {
     "data": {
      "application/vnd.jupyter.widget-view+json": {
       "model_id": "",
       "version_major": 2,
       "version_minor": 0
      },
      "text/plain": [
       "Training data Evaluate:   0%|                                    | 0/525 [00:00<?, ?it/s]"
      ]
     },
     "metadata": {},
     "output_type": "display_data"
    },
    {
     "name": "stdout",
     "output_type": "stream",
     "text": [
      "Training data Evaluation : loss=0.141108 Accuracy=96.1 %\n"
     ]
    },
    {
     "data": {
      "application/vnd.jupyter.widget-view+json": {
       "model_id": "",
       "version_major": 2,
       "version_minor": 0
      },
      "text/plain": [
       "Validation data Evaluate:   0%|                                  | 0/132 [00:00<?, ?it/s]"
      ]
     },
     "metadata": {},
     "output_type": "display_data"
    },
    {
     "name": "stdout",
     "output_type": "stream",
     "text": [
      "Validation data Evaluation : loss=0.141888 Accuracy=96.3 %\n",
      "lr : 0.001 -> 0.001\n",
      "saving : ../modelWeights/SimpleCNN_epoch10_Acc96.3.pth\n"
     ]
    },
    {
     "data": {
      "application/vnd.jupyter.widget-view+json": {
       "model_id": "028dde9ab10e41299ed9f83838a5ee01",
       "version_major": 2,
       "version_minor": 0
      },
      "text/plain": [
       "Epoch: 11:   0%|                                                 | 0/525 [00:00<?, ?it/s]"
      ]
     },
     "metadata": {},
     "output_type": "display_data"
    },
    {
     "data": {
      "application/vnd.jupyter.widget-view+json": {
       "model_id": "",
       "version_major": 2,
       "version_minor": 0
      },
      "text/plain": [
       "Training data Evaluate:   0%|                                    | 0/525 [00:00<?, ?it/s]"
      ]
     },
     "metadata": {},
     "output_type": "display_data"
    },
    {
     "name": "stdout",
     "output_type": "stream",
     "text": [
      "Training data Evaluation : loss=0.132471 Accuracy=96.3 %\n"
     ]
    },
    {
     "data": {
      "application/vnd.jupyter.widget-view+json": {
       "model_id": "",
       "version_major": 2,
       "version_minor": 0
      },
      "text/plain": [
       "Validation data Evaluate:   0%|                                  | 0/132 [00:00<?, ?it/s]"
      ]
     },
     "metadata": {},
     "output_type": "display_data"
    },
    {
     "name": "stdout",
     "output_type": "stream",
     "text": [
      "Validation data Evaluation : loss=0.134136 Accuracy=96.4 %\n",
      "lr : 0.001 -> 0.001\n",
      "saving : ../modelWeights/SimpleCNN_epoch11_Acc96.4.pth\n"
     ]
    },
    {
     "data": {
      "application/vnd.jupyter.widget-view+json": {
       "model_id": "68cbabbbc0904fe09e49d9dc180340e6",
       "version_major": 2,
       "version_minor": 0
      },
      "text/plain": [
       "Epoch: 12:   0%|                                                 | 0/525 [00:00<?, ?it/s]"
      ]
     },
     "metadata": {},
     "output_type": "display_data"
    },
    {
     "data": {
      "application/vnd.jupyter.widget-view+json": {
       "model_id": "",
       "version_major": 2,
       "version_minor": 0
      },
      "text/plain": [
       "Training data Evaluate:   0%|                                    | 0/525 [00:00<?, ?it/s]"
      ]
     },
     "metadata": {},
     "output_type": "display_data"
    },
    {
     "name": "stdout",
     "output_type": "stream",
     "text": [
      "Training data Evaluation : loss=0.125965 Accuracy=96.5 %\n"
     ]
    },
    {
     "data": {
      "application/vnd.jupyter.widget-view+json": {
       "model_id": "",
       "version_major": 2,
       "version_minor": 0
      },
      "text/plain": [
       "Validation data Evaluate:   0%|                                  | 0/132 [00:00<?, ?it/s]"
      ]
     },
     "metadata": {},
     "output_type": "display_data"
    },
    {
     "name": "stdout",
     "output_type": "stream",
     "text": [
      "Validation data Evaluation : loss=0.131593 Accuracy=96.5 %\n",
      "lr : 0.001 -> 0.001\n",
      "saving : ../modelWeights/SimpleCNN_epoch12_Acc96.5.pth\n"
     ]
    },
    {
     "data": {
      "application/vnd.jupyter.widget-view+json": {
       "model_id": "6edb1d7dcc8e406c9299857db925a4ef",
       "version_major": 2,
       "version_minor": 0
      },
      "text/plain": [
       "Epoch: 13:   0%|                                                 | 0/525 [00:00<?, ?it/s]"
      ]
     },
     "metadata": {},
     "output_type": "display_data"
    },
    {
     "data": {
      "application/vnd.jupyter.widget-view+json": {
       "model_id": "",
       "version_major": 2,
       "version_minor": 0
      },
      "text/plain": [
       "Training data Evaluate:   0%|                                    | 0/525 [00:00<?, ?it/s]"
      ]
     },
     "metadata": {},
     "output_type": "display_data"
    },
    {
     "name": "stdout",
     "output_type": "stream",
     "text": [
      "Training data Evaluation : loss=0.119713 Accuracy=96.6 %\n"
     ]
    },
    {
     "data": {
      "application/vnd.jupyter.widget-view+json": {
       "model_id": "",
       "version_major": 2,
       "version_minor": 0
      },
      "text/plain": [
       "Validation data Evaluate:   0%|                                  | 0/132 [00:00<?, ?it/s]"
      ]
     },
     "metadata": {},
     "output_type": "display_data"
    },
    {
     "name": "stdout",
     "output_type": "stream",
     "text": [
      "Validation data Evaluation : loss=0.120361 Accuracy=96.7 %\n",
      "lr : 0.001 -> 0.001\n",
      "saving : ../modelWeights/SimpleCNN_epoch13_Acc96.7.pth\n"
     ]
    },
    {
     "data": {
      "application/vnd.jupyter.widget-view+json": {
       "model_id": "30c041f88642417c9f9f386a01992fa4",
       "version_major": 2,
       "version_minor": 0
      },
      "text/plain": [
       "Epoch: 14:   0%|                                                 | 0/525 [00:00<?, ?it/s]"
      ]
     },
     "metadata": {},
     "output_type": "display_data"
    },
    {
     "data": {
      "application/vnd.jupyter.widget-view+json": {
       "model_id": "",
       "version_major": 2,
       "version_minor": 0
      },
      "text/plain": [
       "Training data Evaluate:   0%|                                    | 0/525 [00:00<?, ?it/s]"
      ]
     },
     "metadata": {},
     "output_type": "display_data"
    },
    {
     "name": "stdout",
     "output_type": "stream",
     "text": [
      "Training data Evaluation : loss=0.113992 Accuracy=96.8 %\n"
     ]
    },
    {
     "data": {
      "application/vnd.jupyter.widget-view+json": {
       "model_id": "",
       "version_major": 2,
       "version_minor": 0
      },
      "text/plain": [
       "Validation data Evaluate:   0%|                                  | 0/132 [00:00<?, ?it/s]"
      ]
     },
     "metadata": {},
     "output_type": "display_data"
    },
    {
     "name": "stdout",
     "output_type": "stream",
     "text": [
      "Validation data Evaluation : loss=0.115499 Accuracy=96.8 %\n",
      "lr : 0.001 -> 0.001\n",
      "saving : ../modelWeights/SimpleCNN_epoch14_Acc96.8.pth\n"
     ]
    },
    {
     "data": {
      "application/vnd.jupyter.widget-view+json": {
       "model_id": "084fc5e38de34df69e9662c5a7818122",
       "version_major": 2,
       "version_minor": 0
      },
      "text/plain": [
       "Epoch: 15:   0%|                                                 | 0/525 [00:00<?, ?it/s]"
      ]
     },
     "metadata": {},
     "output_type": "display_data"
    },
    {
     "data": {
      "application/vnd.jupyter.widget-view+json": {
       "model_id": "",
       "version_major": 2,
       "version_minor": 0
      },
      "text/plain": [
       "Training data Evaluate:   0%|                                    | 0/525 [00:00<?, ?it/s]"
      ]
     },
     "metadata": {},
     "output_type": "display_data"
    },
    {
     "name": "stdout",
     "output_type": "stream",
     "text": [
      "Training data Evaluation : loss=0.108850 Accuracy=97.0 %\n"
     ]
    },
    {
     "data": {
      "application/vnd.jupyter.widget-view+json": {
       "model_id": "",
       "version_major": 2,
       "version_minor": 0
      },
      "text/plain": [
       "Validation data Evaluate:   0%|                                  | 0/132 [00:00<?, ?it/s]"
      ]
     },
     "metadata": {},
     "output_type": "display_data"
    },
    {
     "name": "stdout",
     "output_type": "stream",
     "text": [
      "Validation data Evaluation : loss=0.111136 Accuracy=96.8 %\n",
      "lr : 0.001 -> 0.001\n",
      "saving : ../modelWeights/SimpleCNN_epoch15_Acc96.8.pth\n"
     ]
    },
    {
     "data": {
      "application/vnd.jupyter.widget-view+json": {
       "model_id": "0750345aaa3c40e09837c1ed6393eb66",
       "version_major": 2,
       "version_minor": 0
      },
      "text/plain": [
       "Epoch: 16:   0%|                                                 | 0/525 [00:00<?, ?it/s]"
      ]
     },
     "metadata": {},
     "output_type": "display_data"
    },
    {
     "data": {
      "application/vnd.jupyter.widget-view+json": {
       "model_id": "",
       "version_major": 2,
       "version_minor": 0
      },
      "text/plain": [
       "Training data Evaluate:   0%|                                    | 0/525 [00:00<?, ?it/s]"
      ]
     },
     "metadata": {},
     "output_type": "display_data"
    },
    {
     "name": "stdout",
     "output_type": "stream",
     "text": [
      "Training data Evaluation : loss=0.105119 Accuracy=97.1 %\n"
     ]
    },
    {
     "data": {
      "application/vnd.jupyter.widget-view+json": {
       "model_id": "",
       "version_major": 2,
       "version_minor": 0
      },
      "text/plain": [
       "Validation data Evaluate:   0%|                                  | 0/132 [00:00<?, ?it/s]"
      ]
     },
     "metadata": {},
     "output_type": "display_data"
    },
    {
     "name": "stdout",
     "output_type": "stream",
     "text": [
      "Validation data Evaluation : loss=0.106099 Accuracy=97.0 %\n",
      "lr : 0.001 -> 0.001\n",
      "saving : ../modelWeights/SimpleCNN_epoch16_Acc97.0.pth\n"
     ]
    },
    {
     "data": {
      "application/vnd.jupyter.widget-view+json": {
       "model_id": "9dedd760b5b84e179583e2fc5048528c",
       "version_major": 2,
       "version_minor": 0
      },
      "text/plain": [
       "Epoch: 17:   0%|                                                 | 0/525 [00:00<?, ?it/s]"
      ]
     },
     "metadata": {},
     "output_type": "display_data"
    },
    {
     "data": {
      "application/vnd.jupyter.widget-view+json": {
       "model_id": "",
       "version_major": 2,
       "version_minor": 0
      },
      "text/plain": [
       "Training data Evaluate:   0%|                                    | 0/525 [00:00<?, ?it/s]"
      ]
     },
     "metadata": {},
     "output_type": "display_data"
    },
    {
     "name": "stdout",
     "output_type": "stream",
     "text": [
      "Training data Evaluation : loss=0.101735 Accuracy=97.2 %\n"
     ]
    },
    {
     "data": {
      "application/vnd.jupyter.widget-view+json": {
       "model_id": "",
       "version_major": 2,
       "version_minor": 0
      },
      "text/plain": [
       "Validation data Evaluate:   0%|                                  | 0/132 [00:00<?, ?it/s]"
      ]
     },
     "metadata": {},
     "output_type": "display_data"
    },
    {
     "name": "stdout",
     "output_type": "stream",
     "text": [
      "Validation data Evaluation : loss=0.104789 Accuracy=97.1 %\n",
      "lr : 0.001 -> 0.001\n",
      "saving : ../modelWeights/SimpleCNN_epoch17_Acc97.1.pth\n"
     ]
    },
    {
     "data": {
      "application/vnd.jupyter.widget-view+json": {
       "model_id": "dc1be38d204b4d5aa9483c99b018c4d0",
       "version_major": 2,
       "version_minor": 0
      },
      "text/plain": [
       "Epoch: 18:   0%|                                                 | 0/525 [00:00<?, ?it/s]"
      ]
     },
     "metadata": {},
     "output_type": "display_data"
    },
    {
     "data": {
      "application/vnd.jupyter.widget-view+json": {
       "model_id": "",
       "version_major": 2,
       "version_minor": 0
      },
      "text/plain": [
       "Training data Evaluate:   0%|                                    | 0/525 [00:00<?, ?it/s]"
      ]
     },
     "metadata": {},
     "output_type": "display_data"
    },
    {
     "name": "stdout",
     "output_type": "stream",
     "text": [
      "Training data Evaluation : loss=0.098516 Accuracy=97.3 %\n"
     ]
    },
    {
     "data": {
      "application/vnd.jupyter.widget-view+json": {
       "model_id": "",
       "version_major": 2,
       "version_minor": 0
      },
      "text/plain": [
       "Validation data Evaluate:   0%|                                  | 0/132 [00:00<?, ?it/s]"
      ]
     },
     "metadata": {},
     "output_type": "display_data"
    },
    {
     "name": "stdout",
     "output_type": "stream",
     "text": [
      "Validation data Evaluation : loss=0.102459 Accuracy=97.1 %\n",
      "lr : 0.001 -> 0.001\n",
      "saving : ../modelWeights/SimpleCNN_epoch18_Acc97.1.pth\n"
     ]
    },
    {
     "data": {
      "application/vnd.jupyter.widget-view+json": {
       "model_id": "58f60ff35c684acf8f29c8764cd5d432",
       "version_major": 2,
       "version_minor": 0
      },
      "text/plain": [
       "Epoch: 19:   0%|                                                 | 0/525 [00:00<?, ?it/s]"
      ]
     },
     "metadata": {},
     "output_type": "display_data"
    },
    {
     "data": {
      "application/vnd.jupyter.widget-view+json": {
       "model_id": "",
       "version_major": 2,
       "version_minor": 0
      },
      "text/plain": [
       "Training data Evaluate:   0%|                                    | 0/525 [00:00<?, ?it/s]"
      ]
     },
     "metadata": {},
     "output_type": "display_data"
    },
    {
     "name": "stdout",
     "output_type": "stream",
     "text": [
      "Training data Evaluation : loss=0.094346 Accuracy=97.4 %\n"
     ]
    },
    {
     "data": {
      "application/vnd.jupyter.widget-view+json": {
       "model_id": "",
       "version_major": 2,
       "version_minor": 0
      },
      "text/plain": [
       "Validation data Evaluate:   0%|                                  | 0/132 [00:00<?, ?it/s]"
      ]
     },
     "metadata": {},
     "output_type": "display_data"
    },
    {
     "name": "stdout",
     "output_type": "stream",
     "text": [
      "Validation data Evaluation : loss=0.096918 Accuracy=97.2 %\n",
      "lr : 0.001 -> 0.001\n",
      "saving : ../modelWeights/SimpleCNN_epoch19_Acc97.2.pth\n"
     ]
    },
    {
     "data": {
      "application/vnd.jupyter.widget-view+json": {
       "model_id": "4491364c217f42c490aa6a540b1775db",
       "version_major": 2,
       "version_minor": 0
      },
      "text/plain": [
       "Epoch: 20:   0%|                                                 | 0/525 [00:00<?, ?it/s]"
      ]
     },
     "metadata": {},
     "output_type": "display_data"
    },
    {
     "data": {
      "application/vnd.jupyter.widget-view+json": {
       "model_id": "",
       "version_major": 2,
       "version_minor": 0
      },
      "text/plain": [
       "Training data Evaluate:   0%|                                    | 0/525 [00:00<?, ?it/s]"
      ]
     },
     "metadata": {},
     "output_type": "display_data"
    },
    {
     "name": "stdout",
     "output_type": "stream",
     "text": [
      "Training data Evaluation : loss=0.091649 Accuracy=97.5 %\n"
     ]
    },
    {
     "data": {
      "application/vnd.jupyter.widget-view+json": {
       "model_id": "",
       "version_major": 2,
       "version_minor": 0
      },
      "text/plain": [
       "Validation data Evaluate:   0%|                                  | 0/132 [00:00<?, ?it/s]"
      ]
     },
     "metadata": {},
     "output_type": "display_data"
    },
    {
     "name": "stdout",
     "output_type": "stream",
     "text": [
      "Validation data Evaluation : loss=0.094429 Accuracy=97.2 %\n",
      "lr : 0.001 -> 0.001\n",
      "saving : ../modelWeights/SimpleCNN_epoch20_Acc97.2.pth\n"
     ]
    },
    {
     "data": {
      "application/vnd.jupyter.widget-view+json": {
       "model_id": "909a44a8edd945ba8e8cae3122916114",
       "version_major": 2,
       "version_minor": 0
      },
      "text/plain": [
       "Epoch: 21:   0%|                                                 | 0/525 [00:00<?, ?it/s]"
      ]
     },
     "metadata": {},
     "output_type": "display_data"
    },
    {
     "data": {
      "application/vnd.jupyter.widget-view+json": {
       "model_id": "",
       "version_major": 2,
       "version_minor": 0
      },
      "text/plain": [
       "Training data Evaluate:   0%|                                    | 0/525 [00:00<?, ?it/s]"
      ]
     },
     "metadata": {},
     "output_type": "display_data"
    },
    {
     "name": "stdout",
     "output_type": "stream",
     "text": [
      "Training data Evaluation : loss=0.088652 Accuracy=97.5 %\n"
     ]
    },
    {
     "data": {
      "application/vnd.jupyter.widget-view+json": {
       "model_id": "",
       "version_major": 2,
       "version_minor": 0
      },
      "text/plain": [
       "Validation data Evaluate:   0%|                                  | 0/132 [00:00<?, ?it/s]"
      ]
     },
     "metadata": {},
     "output_type": "display_data"
    },
    {
     "name": "stdout",
     "output_type": "stream",
     "text": [
      "Validation data Evaluation : loss=0.091856 Accuracy=97.4 %\n",
      "lr : 0.001 -> 0.001\n",
      "saving : ../modelWeights/SimpleCNN_epoch21_Acc97.4.pth\n"
     ]
    },
    {
     "data": {
      "application/vnd.jupyter.widget-view+json": {
       "model_id": "4dd2913781c14de68bc3ca16799d4bee",
       "version_major": 2,
       "version_minor": 0
      },
      "text/plain": [
       "Epoch: 22:   0%|                                                 | 0/525 [00:00<?, ?it/s]"
      ]
     },
     "metadata": {},
     "output_type": "display_data"
    },
    {
     "data": {
      "application/vnd.jupyter.widget-view+json": {
       "model_id": "",
       "version_major": 2,
       "version_minor": 0
      },
      "text/plain": [
       "Training data Evaluate:   0%|                                    | 0/525 [00:00<?, ?it/s]"
      ]
     },
     "metadata": {},
     "output_type": "display_data"
    },
    {
     "name": "stdout",
     "output_type": "stream",
     "text": [
      "Training data Evaluation : loss=0.086393 Accuracy=97.6 %\n"
     ]
    },
    {
     "data": {
      "application/vnd.jupyter.widget-view+json": {
       "model_id": "",
       "version_major": 2,
       "version_minor": 0
      },
      "text/plain": [
       "Validation data Evaluate:   0%|                                  | 0/132 [00:00<?, ?it/s]"
      ]
     },
     "metadata": {},
     "output_type": "display_data"
    },
    {
     "name": "stdout",
     "output_type": "stream",
     "text": [
      "Validation data Evaluation : loss=0.090536 Accuracy=97.3 %\n",
      "lr : 0.001 -> 0.001\n",
      "saving : ../modelWeights/SimpleCNN_epoch22_Acc97.3.pth\n"
     ]
    },
    {
     "data": {
      "application/vnd.jupyter.widget-view+json": {
       "model_id": "0b708dfe5a75416183ee80eb011ae610",
       "version_major": 2,
       "version_minor": 0
      },
      "text/plain": [
       "Epoch: 23:   0%|                                                 | 0/525 [00:00<?, ?it/s]"
      ]
     },
     "metadata": {},
     "output_type": "display_data"
    },
    {
     "data": {
      "application/vnd.jupyter.widget-view+json": {
       "model_id": "",
       "version_major": 2,
       "version_minor": 0
      },
      "text/plain": [
       "Training data Evaluate:   0%|                                    | 0/525 [00:00<?, ?it/s]"
      ]
     },
     "metadata": {},
     "output_type": "display_data"
    },
    {
     "name": "stdout",
     "output_type": "stream",
     "text": [
      "Training data Evaluation : loss=0.084696 Accuracy=97.7 %\n"
     ]
    },
    {
     "data": {
      "application/vnd.jupyter.widget-view+json": {
       "model_id": "",
       "version_major": 2,
       "version_minor": 0
      },
      "text/plain": [
       "Validation data Evaluate:   0%|                                  | 0/132 [00:00<?, ?it/s]"
      ]
     },
     "metadata": {},
     "output_type": "display_data"
    },
    {
     "name": "stdout",
     "output_type": "stream",
     "text": [
      "Validation data Evaluation : loss=0.087896 Accuracy=97.4 %\n",
      "lr : 0.001 -> 0.001\n",
      "saving : ../modelWeights/SimpleCNN_epoch23_Acc97.4.pth\n"
     ]
    },
    {
     "data": {
      "application/vnd.jupyter.widget-view+json": {
       "model_id": "91db684f5c4a4da98f5f98c6ded04c49",
       "version_major": 2,
       "version_minor": 0
      },
      "text/plain": [
       "Epoch: 24:   0%|                                                 | 0/525 [00:00<?, ?it/s]"
      ]
     },
     "metadata": {},
     "output_type": "display_data"
    },
    {
     "data": {
      "application/vnd.jupyter.widget-view+json": {
       "model_id": "",
       "version_major": 2,
       "version_minor": 0
      },
      "text/plain": [
       "Training data Evaluate:   0%|                                    | 0/525 [00:00<?, ?it/s]"
      ]
     },
     "metadata": {},
     "output_type": "display_data"
    },
    {
     "name": "stdout",
     "output_type": "stream",
     "text": [
      "Training data Evaluation : loss=0.081921 Accuracy=97.7 %\n"
     ]
    },
    {
     "data": {
      "application/vnd.jupyter.widget-view+json": {
       "model_id": "",
       "version_major": 2,
       "version_minor": 0
      },
      "text/plain": [
       "Validation data Evaluate:   0%|                                  | 0/132 [00:00<?, ?it/s]"
      ]
     },
     "metadata": {},
     "output_type": "display_data"
    },
    {
     "name": "stdout",
     "output_type": "stream",
     "text": [
      "Validation data Evaluation : loss=0.086430 Accuracy=97.5 %\n",
      "lr : 0.001 -> 0.001\n",
      "saving : ../modelWeights/SimpleCNN_epoch24_Acc97.5.pth\n"
     ]
    },
    {
     "data": {
      "application/vnd.jupyter.widget-view+json": {
       "model_id": "ed4e2cf3202a4d859c81df76c0b862b1",
       "version_major": 2,
       "version_minor": 0
      },
      "text/plain": [
       "Epoch: 25:   0%|                                                 | 0/525 [00:00<?, ?it/s]"
      ]
     },
     "metadata": {},
     "output_type": "display_data"
    },
    {
     "data": {
      "application/vnd.jupyter.widget-view+json": {
       "model_id": "",
       "version_major": 2,
       "version_minor": 0
      },
      "text/plain": [
       "Training data Evaluate:   0%|                                    | 0/525 [00:00<?, ?it/s]"
      ]
     },
     "metadata": {},
     "output_type": "display_data"
    },
    {
     "name": "stdout",
     "output_type": "stream",
     "text": [
      "Training data Evaluation : loss=0.080295 Accuracy=97.8 %\n"
     ]
    },
    {
     "data": {
      "application/vnd.jupyter.widget-view+json": {
       "model_id": "",
       "version_major": 2,
       "version_minor": 0
      },
      "text/plain": [
       "Validation data Evaluate:   0%|                                  | 0/132 [00:00<?, ?it/s]"
      ]
     },
     "metadata": {},
     "output_type": "display_data"
    },
    {
     "name": "stdout",
     "output_type": "stream",
     "text": [
      "Validation data Evaluation : loss=0.084514 Accuracy=97.5 %\n",
      "lr : 0.001 -> 0.001\n",
      "saving : ../modelWeights/SimpleCNN_epoch25_Acc97.5.pth\n"
     ]
    },
    {
     "data": {
      "application/vnd.jupyter.widget-view+json": {
       "model_id": "de6505ccbf874d07909e18e7e49d0741",
       "version_major": 2,
       "version_minor": 0
      },
      "text/plain": [
       "Epoch: 26:   0%|                                                 | 0/525 [00:00<?, ?it/s]"
      ]
     },
     "metadata": {},
     "output_type": "display_data"
    },
    {
     "data": {
      "application/vnd.jupyter.widget-view+json": {
       "model_id": "",
       "version_major": 2,
       "version_minor": 0
      },
      "text/plain": [
       "Training data Evaluate:   0%|                                    | 0/525 [00:00<?, ?it/s]"
      ]
     },
     "metadata": {},
     "output_type": "display_data"
    },
    {
     "name": "stdout",
     "output_type": "stream",
     "text": [
      "Training data Evaluation : loss=0.078013 Accuracy=97.9 %\n"
     ]
    },
    {
     "data": {
      "application/vnd.jupyter.widget-view+json": {
       "model_id": "",
       "version_major": 2,
       "version_minor": 0
      },
      "text/plain": [
       "Validation data Evaluate:   0%|                                  | 0/132 [00:00<?, ?it/s]"
      ]
     },
     "metadata": {},
     "output_type": "display_data"
    },
    {
     "name": "stdout",
     "output_type": "stream",
     "text": [
      "Validation data Evaluation : loss=0.082385 Accuracy=97.6 %\n",
      "lr : 0.001 -> 0.001\n",
      "saving : ../modelWeights/SimpleCNN_epoch26_Acc97.6.pth\n"
     ]
    },
    {
     "data": {
      "application/vnd.jupyter.widget-view+json": {
       "model_id": "7fe8c3b488d446dbb137f3830608e64c",
       "version_major": 2,
       "version_minor": 0
      },
      "text/plain": [
       "Epoch: 27:   0%|                                                 | 0/525 [00:00<?, ?it/s]"
      ]
     },
     "metadata": {},
     "output_type": "display_data"
    },
    {
     "data": {
      "application/vnd.jupyter.widget-view+json": {
       "model_id": "",
       "version_major": 2,
       "version_minor": 0
      },
      "text/plain": [
       "Training data Evaluate:   0%|                                    | 0/525 [00:00<?, ?it/s]"
      ]
     },
     "metadata": {},
     "output_type": "display_data"
    },
    {
     "name": "stdout",
     "output_type": "stream",
     "text": [
      "Training data Evaluation : loss=0.076137 Accuracy=97.9 %\n"
     ]
    },
    {
     "data": {
      "application/vnd.jupyter.widget-view+json": {
       "model_id": "",
       "version_major": 2,
       "version_minor": 0
      },
      "text/plain": [
       "Validation data Evaluate:   0%|                                  | 0/132 [00:00<?, ?it/s]"
      ]
     },
     "metadata": {},
     "output_type": "display_data"
    },
    {
     "name": "stdout",
     "output_type": "stream",
     "text": [
      "Validation data Evaluation : loss=0.080330 Accuracy=97.6 %\n",
      "lr : 0.001 -> 0.001\n",
      "saving : ../modelWeights/SimpleCNN_epoch27_Acc97.6.pth\n"
     ]
    },
    {
     "data": {
      "application/vnd.jupyter.widget-view+json": {
       "model_id": "b0e4cdddf88d43a5a9a745fd265057a1",
       "version_major": 2,
       "version_minor": 0
      },
      "text/plain": [
       "Epoch: 28:   0%|                                                 | 0/525 [00:00<?, ?it/s]"
      ]
     },
     "metadata": {},
     "output_type": "display_data"
    },
    {
     "data": {
      "application/vnd.jupyter.widget-view+json": {
       "model_id": "",
       "version_major": 2,
       "version_minor": 0
      },
      "text/plain": [
       "Training data Evaluate:   0%|                                    | 0/525 [00:00<?, ?it/s]"
      ]
     },
     "metadata": {},
     "output_type": "display_data"
    },
    {
     "name": "stdout",
     "output_type": "stream",
     "text": [
      "Training data Evaluation : loss=0.074465 Accuracy=98.0 %\n"
     ]
    },
    {
     "data": {
      "application/vnd.jupyter.widget-view+json": {
       "model_id": "",
       "version_major": 2,
       "version_minor": 0
      },
      "text/plain": [
       "Validation data Evaluate:   0%|                                  | 0/132 [00:00<?, ?it/s]"
      ]
     },
     "metadata": {},
     "output_type": "display_data"
    },
    {
     "name": "stdout",
     "output_type": "stream",
     "text": [
      "Validation data Evaluation : loss=0.078991 Accuracy=97.7 %\n",
      "lr : 0.001 -> 0.001\n",
      "saving : ../modelWeights/SimpleCNN_epoch28_Acc97.7.pth\n"
     ]
    },
    {
     "data": {
      "application/vnd.jupyter.widget-view+json": {
       "model_id": "ffe923ef78a342ba8851f7bacdbd3a3d",
       "version_major": 2,
       "version_minor": 0
      },
      "text/plain": [
       "Epoch: 29:   0%|                                                 | 0/525 [00:00<?, ?it/s]"
      ]
     },
     "metadata": {},
     "output_type": "display_data"
    },
    {
     "data": {
      "application/vnd.jupyter.widget-view+json": {
       "model_id": "",
       "version_major": 2,
       "version_minor": 0
      },
      "text/plain": [
       "Training data Evaluate:   0%|                                    | 0/525 [00:00<?, ?it/s]"
      ]
     },
     "metadata": {},
     "output_type": "display_data"
    },
    {
     "name": "stdout",
     "output_type": "stream",
     "text": [
      "Training data Evaluation : loss=0.073238 Accuracy=98.0 %\n"
     ]
    },
    {
     "data": {
      "application/vnd.jupyter.widget-view+json": {
       "model_id": "",
       "version_major": 2,
       "version_minor": 0
      },
      "text/plain": [
       "Validation data Evaluate:   0%|                                  | 0/132 [00:00<?, ?it/s]"
      ]
     },
     "metadata": {},
     "output_type": "display_data"
    },
    {
     "name": "stdout",
     "output_type": "stream",
     "text": [
      "Validation data Evaluation : loss=0.078118 Accuracy=97.7 %\n",
      "lr : 0.001 -> 0.001\n",
      "saving : ../modelWeights/SimpleCNN_epoch29_Acc97.7.pth\n"
     ]
    },
    {
     "data": {
      "application/vnd.jupyter.widget-view+json": {
       "model_id": "b050fda20f434129a6399bae56dc5744",
       "version_major": 2,
       "version_minor": 0
      },
      "text/plain": [
       "Epoch: 30:   0%|                                                 | 0/525 [00:00<?, ?it/s]"
      ]
     },
     "metadata": {},
     "output_type": "display_data"
    },
    {
     "data": {
      "application/vnd.jupyter.widget-view+json": {
       "model_id": "",
       "version_major": 2,
       "version_minor": 0
      },
      "text/plain": [
       "Training data Evaluate:   0%|                                    | 0/525 [00:00<?, ?it/s]"
      ]
     },
     "metadata": {},
     "output_type": "display_data"
    },
    {
     "name": "stdout",
     "output_type": "stream",
     "text": [
      "Training data Evaluation : loss=0.071783 Accuracy=98.0 %\n"
     ]
    },
    {
     "data": {
      "application/vnd.jupyter.widget-view+json": {
       "model_id": "",
       "version_major": 2,
       "version_minor": 0
      },
      "text/plain": [
       "Validation data Evaluate:   0%|                                  | 0/132 [00:00<?, ?it/s]"
      ]
     },
     "metadata": {},
     "output_type": "display_data"
    },
    {
     "name": "stdout",
     "output_type": "stream",
     "text": [
      "Validation data Evaluation : loss=0.077239 Accuracy=97.8 %\n",
      "lr : 0.001 -> 0.001\n",
      "saving : ../modelWeights/SimpleCNN_epoch30_Acc97.8.pth\n"
     ]
    },
    {
     "data": {
      "application/vnd.jupyter.widget-view+json": {
       "model_id": "b9fc93fc2258439e8055279cc29b6d99",
       "version_major": 2,
       "version_minor": 0
      },
      "text/plain": [
       "Epoch: 31:   0%|                                                 | 0/525 [00:00<?, ?it/s]"
      ]
     },
     "metadata": {},
     "output_type": "display_data"
    },
    {
     "data": {
      "application/vnd.jupyter.widget-view+json": {
       "model_id": "",
       "version_major": 2,
       "version_minor": 0
      },
      "text/plain": [
       "Training data Evaluate:   0%|                                    | 0/525 [00:00<?, ?it/s]"
      ]
     },
     "metadata": {},
     "output_type": "display_data"
    },
    {
     "name": "stdout",
     "output_type": "stream",
     "text": [
      "Training data Evaluation : loss=0.069843 Accuracy=98.0 %\n"
     ]
    },
    {
     "data": {
      "application/vnd.jupyter.widget-view+json": {
       "model_id": "",
       "version_major": 2,
       "version_minor": 0
      },
      "text/plain": [
       "Validation data Evaluate:   0%|                                  | 0/132 [00:00<?, ?it/s]"
      ]
     },
     "metadata": {},
     "output_type": "display_data"
    },
    {
     "name": "stdout",
     "output_type": "stream",
     "text": [
      "Validation data Evaluation : loss=0.075228 Accuracy=97.8 %\n",
      "lr : 0.001 -> 0.001\n",
      "saving : ../modelWeights/SimpleCNN_epoch31_Acc97.8.pth\n"
     ]
    },
    {
     "data": {
      "application/vnd.jupyter.widget-view+json": {
       "model_id": "d3fe3e5a04774a6ea4f61d61d1ff3ae5",
       "version_major": 2,
       "version_minor": 0
      },
      "text/plain": [
       "Epoch: 32:   0%|                                                 | 0/525 [00:00<?, ?it/s]"
      ]
     },
     "metadata": {},
     "output_type": "display_data"
    },
    {
     "data": {
      "application/vnd.jupyter.widget-view+json": {
       "model_id": "",
       "version_major": 2,
       "version_minor": 0
      },
      "text/plain": [
       "Training data Evaluate:   0%|                                    | 0/525 [00:00<?, ?it/s]"
      ]
     },
     "metadata": {},
     "output_type": "display_data"
    },
    {
     "name": "stdout",
     "output_type": "stream",
     "text": [
      "Training data Evaluation : loss=0.068605 Accuracy=98.1 %\n"
     ]
    },
    {
     "data": {
      "application/vnd.jupyter.widget-view+json": {
       "model_id": "",
       "version_major": 2,
       "version_minor": 0
      },
      "text/plain": [
       "Validation data Evaluate:   0%|                                  | 0/132 [00:00<?, ?it/s]"
      ]
     },
     "metadata": {},
     "output_type": "display_data"
    },
    {
     "name": "stdout",
     "output_type": "stream",
     "text": [
      "Validation data Evaluation : loss=0.075512 Accuracy=97.9 %\n",
      "lr : 0.001 -> 0.001\n",
      "saving : ../modelWeights/SimpleCNN_epoch32_Acc97.9.pth\n"
     ]
    },
    {
     "data": {
      "application/vnd.jupyter.widget-view+json": {
       "model_id": "596cf3f2d1594123ade52bc4d4f1b8b8",
       "version_major": 2,
       "version_minor": 0
      },
      "text/plain": [
       "Epoch: 33:   0%|                                                 | 0/525 [00:00<?, ?it/s]"
      ]
     },
     "metadata": {},
     "output_type": "display_data"
    },
    {
     "data": {
      "application/vnd.jupyter.widget-view+json": {
       "model_id": "",
       "version_major": 2,
       "version_minor": 0
      },
      "text/plain": [
       "Training data Evaluate:   0%|                                    | 0/525 [00:00<?, ?it/s]"
      ]
     },
     "metadata": {},
     "output_type": "display_data"
    },
    {
     "name": "stdout",
     "output_type": "stream",
     "text": [
      "Training data Evaluation : loss=0.067599 Accuracy=98.1 %\n"
     ]
    },
    {
     "data": {
      "application/vnd.jupyter.widget-view+json": {
       "model_id": "",
       "version_major": 2,
       "version_minor": 0
      },
      "text/plain": [
       "Validation data Evaluate:   0%|                                  | 0/132 [00:00<?, ?it/s]"
      ]
     },
     "metadata": {},
     "output_type": "display_data"
    },
    {
     "name": "stdout",
     "output_type": "stream",
     "text": [
      "Validation data Evaluation : loss=0.073562 Accuracy=97.9 %\n",
      "lr : 0.001 -> 0.001\n",
      "saving : ../modelWeights/SimpleCNN_epoch33_Acc97.9.pth\n"
     ]
    },
    {
     "data": {
      "application/vnd.jupyter.widget-view+json": {
       "model_id": "0855e73501c5422bb893cf3f716cf97b",
       "version_major": 2,
       "version_minor": 0
      },
      "text/plain": [
       "Epoch: 34:   0%|                                                 | 0/525 [00:00<?, ?it/s]"
      ]
     },
     "metadata": {},
     "output_type": "display_data"
    },
    {
     "data": {
      "application/vnd.jupyter.widget-view+json": {
       "model_id": "",
       "version_major": 2,
       "version_minor": 0
      },
      "text/plain": [
       "Training data Evaluate:   0%|                                    | 0/525 [00:00<?, ?it/s]"
      ]
     },
     "metadata": {},
     "output_type": "display_data"
    },
    {
     "name": "stdout",
     "output_type": "stream",
     "text": [
      "Training data Evaluation : loss=0.066243 Accuracy=98.2 %\n"
     ]
    },
    {
     "data": {
      "application/vnd.jupyter.widget-view+json": {
       "model_id": "",
       "version_major": 2,
       "version_minor": 0
      },
      "text/plain": [
       "Validation data Evaluate:   0%|                                  | 0/132 [00:00<?, ?it/s]"
      ]
     },
     "metadata": {},
     "output_type": "display_data"
    },
    {
     "name": "stdout",
     "output_type": "stream",
     "text": [
      "Validation data Evaluation : loss=0.072218 Accuracy=97.9 %\n",
      "lr : 0.001 -> 0.001\n",
      "saving : ../modelWeights/SimpleCNN_epoch34_Acc97.9.pth\n"
     ]
    },
    {
     "data": {
      "application/vnd.jupyter.widget-view+json": {
       "model_id": "2b267c6bfa8f4a9c959c0fed81860882",
       "version_major": 2,
       "version_minor": 0
      },
      "text/plain": [
       "Epoch: 35:   0%|                                                 | 0/525 [00:00<?, ?it/s]"
      ]
     },
     "metadata": {},
     "output_type": "display_data"
    },
    {
     "data": {
      "application/vnd.jupyter.widget-view+json": {
       "model_id": "",
       "version_major": 2,
       "version_minor": 0
      },
      "text/plain": [
       "Training data Evaluate:   0%|                                    | 0/525 [00:00<?, ?it/s]"
      ]
     },
     "metadata": {},
     "output_type": "display_data"
    },
    {
     "name": "stdout",
     "output_type": "stream",
     "text": [
      "Training data Evaluation : loss=0.064984 Accuracy=98.2 %\n"
     ]
    },
    {
     "data": {
      "application/vnd.jupyter.widget-view+json": {
       "model_id": "",
       "version_major": 2,
       "version_minor": 0
      },
      "text/plain": [
       "Validation data Evaluate:   0%|                                  | 0/132 [00:00<?, ?it/s]"
      ]
     },
     "metadata": {},
     "output_type": "display_data"
    },
    {
     "name": "stdout",
     "output_type": "stream",
     "text": [
      "Validation data Evaluation : loss=0.071626 Accuracy=97.9 %\n",
      "lr : 0.001 -> 0.001\n",
      "saving : ../modelWeights/SimpleCNN_epoch35_Acc97.9.pth\n"
     ]
    },
    {
     "data": {
      "application/vnd.jupyter.widget-view+json": {
       "model_id": "2156eab94d464cc7a7462b892a214e2e",
       "version_major": 2,
       "version_minor": 0
      },
      "text/plain": [
       "Epoch: 36:   0%|                                                 | 0/525 [00:00<?, ?it/s]"
      ]
     },
     "metadata": {},
     "output_type": "display_data"
    },
    {
     "data": {
      "application/vnd.jupyter.widget-view+json": {
       "model_id": "",
       "version_major": 2,
       "version_minor": 0
      },
      "text/plain": [
       "Training data Evaluate:   0%|                                    | 0/525 [00:00<?, ?it/s]"
      ]
     },
     "metadata": {},
     "output_type": "display_data"
    },
    {
     "name": "stdout",
     "output_type": "stream",
     "text": [
      "Training data Evaluation : loss=0.063837 Accuracy=98.2 %\n"
     ]
    },
    {
     "data": {
      "application/vnd.jupyter.widget-view+json": {
       "model_id": "",
       "version_major": 2,
       "version_minor": 0
      },
      "text/plain": [
       "Validation data Evaluate:   0%|                                  | 0/132 [00:00<?, ?it/s]"
      ]
     },
     "metadata": {},
     "output_type": "display_data"
    },
    {
     "name": "stdout",
     "output_type": "stream",
     "text": [
      "Validation data Evaluation : loss=0.070082 Accuracy=98.0 %\n",
      "lr : 0.001 -> 0.001\n",
      "saving : ../modelWeights/SimpleCNN_epoch36_Acc98.0.pth\n"
     ]
    },
    {
     "data": {
      "application/vnd.jupyter.widget-view+json": {
       "model_id": "381faf353f6e437cac27b862aef1a116",
       "version_major": 2,
       "version_minor": 0
      },
      "text/plain": [
       "Epoch: 37:   0%|                                                 | 0/525 [00:00<?, ?it/s]"
      ]
     },
     "metadata": {},
     "output_type": "display_data"
    },
    {
     "data": {
      "application/vnd.jupyter.widget-view+json": {
       "model_id": "",
       "version_major": 2,
       "version_minor": 0
      },
      "text/plain": [
       "Training data Evaluate:   0%|                                    | 0/525 [00:00<?, ?it/s]"
      ]
     },
     "metadata": {},
     "output_type": "display_data"
    },
    {
     "name": "stdout",
     "output_type": "stream",
     "text": [
      "Training data Evaluation : loss=0.062589 Accuracy=98.3 %\n"
     ]
    },
    {
     "data": {
      "application/vnd.jupyter.widget-view+json": {
       "model_id": "",
       "version_major": 2,
       "version_minor": 0
      },
      "text/plain": [
       "Validation data Evaluate:   0%|                                  | 0/132 [00:00<?, ?it/s]"
      ]
     },
     "metadata": {},
     "output_type": "display_data"
    },
    {
     "name": "stdout",
     "output_type": "stream",
     "text": [
      "Validation data Evaluation : loss=0.069377 Accuracy=98.0 %\n",
      "lr : 0.001 -> 0.001\n",
      "saving : ../modelWeights/SimpleCNN_epoch37_Acc98.0.pth\n"
     ]
    },
    {
     "data": {
      "application/vnd.jupyter.widget-view+json": {
       "model_id": "99da6c681c6f49db98ea778dba77c1e7",
       "version_major": 2,
       "version_minor": 0
      },
      "text/plain": [
       "Epoch: 38:   0%|                                                 | 0/525 [00:00<?, ?it/s]"
      ]
     },
     "metadata": {},
     "output_type": "display_data"
    },
    {
     "data": {
      "application/vnd.jupyter.widget-view+json": {
       "model_id": "",
       "version_major": 2,
       "version_minor": 0
      },
      "text/plain": [
       "Training data Evaluate:   0%|                                    | 0/525 [00:00<?, ?it/s]"
      ]
     },
     "metadata": {},
     "output_type": "display_data"
    },
    {
     "name": "stdout",
     "output_type": "stream",
     "text": [
      "Training data Evaluation : loss=0.061539 Accuracy=98.3 %\n"
     ]
    },
    {
     "data": {
      "application/vnd.jupyter.widget-view+json": {
       "model_id": "",
       "version_major": 2,
       "version_minor": 0
      },
      "text/plain": [
       "Validation data Evaluate:   0%|                                  | 0/132 [00:00<?, ?it/s]"
      ]
     },
     "metadata": {},
     "output_type": "display_data"
    },
    {
     "name": "stdout",
     "output_type": "stream",
     "text": [
      "Validation data Evaluation : loss=0.070086 Accuracy=98.0 %\n",
      "lr : 0.001 -> 0.001\n",
      "saving : ../modelWeights/SimpleCNN_epoch38_Acc98.0.pth\n"
     ]
    },
    {
     "data": {
      "application/vnd.jupyter.widget-view+json": {
       "model_id": "c02f5c8accf84ed2b58a9d7e2424b27a",
       "version_major": 2,
       "version_minor": 0
      },
      "text/plain": [
       "Epoch: 39:   0%|                                                 | 0/525 [00:00<?, ?it/s]"
      ]
     },
     "metadata": {},
     "output_type": "display_data"
    },
    {
     "data": {
      "application/vnd.jupyter.widget-view+json": {
       "model_id": "",
       "version_major": 2,
       "version_minor": 0
      },
      "text/plain": [
       "Training data Evaluate:   0%|                                    | 0/525 [00:00<?, ?it/s]"
      ]
     },
     "metadata": {},
     "output_type": "display_data"
    },
    {
     "name": "stdout",
     "output_type": "stream",
     "text": [
      "Training data Evaluation : loss=0.060413 Accuracy=98.3 %\n"
     ]
    },
    {
     "data": {
      "application/vnd.jupyter.widget-view+json": {
       "model_id": "",
       "version_major": 2,
       "version_minor": 0
      },
      "text/plain": [
       "Validation data Evaluate:   0%|                                  | 0/132 [00:00<?, ?it/s]"
      ]
     },
     "metadata": {},
     "output_type": "display_data"
    },
    {
     "name": "stdout",
     "output_type": "stream",
     "text": [
      "Validation data Evaluation : loss=0.068074 Accuracy=98.0 %\n",
      "lr : 0.001 -> 0.001\n",
      "saving : ../modelWeights/SimpleCNN_epoch39_Acc98.0.pth\n"
     ]
    },
    {
     "data": {
      "application/vnd.jupyter.widget-view+json": {
       "model_id": "36edfe1d082d483b934567b56f0ccfe5",
       "version_major": 2,
       "version_minor": 0
      },
      "text/plain": [
       "Epoch: 40:   0%|                                                 | 0/525 [00:00<?, ?it/s]"
      ]
     },
     "metadata": {},
     "output_type": "display_data"
    },
    {
     "data": {
      "application/vnd.jupyter.widget-view+json": {
       "model_id": "",
       "version_major": 2,
       "version_minor": 0
      },
      "text/plain": [
       "Training data Evaluate:   0%|                                    | 0/525 [00:00<?, ?it/s]"
      ]
     },
     "metadata": {},
     "output_type": "display_data"
    },
    {
     "name": "stdout",
     "output_type": "stream",
     "text": [
      "Training data Evaluation : loss=0.060027 Accuracy=98.3 %\n"
     ]
    },
    {
     "data": {
      "application/vnd.jupyter.widget-view+json": {
       "model_id": "",
       "version_major": 2,
       "version_minor": 0
      },
      "text/plain": [
       "Validation data Evaluate:   0%|                                  | 0/132 [00:00<?, ?it/s]"
      ]
     },
     "metadata": {},
     "output_type": "display_data"
    },
    {
     "name": "stdout",
     "output_type": "stream",
     "text": [
      "Validation data Evaluation : loss=0.067507 Accuracy=98.0 %\n",
      "lr : 0.001 -> 0.001\n",
      "saving : ../modelWeights/SimpleCNN_epoch40_Acc98.0.pth\n"
     ]
    },
    {
     "data": {
      "application/vnd.jupyter.widget-view+json": {
       "model_id": "fad6f6b92d7744ca8f1eaee896888d3b",
       "version_major": 2,
       "version_minor": 0
      },
      "text/plain": [
       "Epoch: 41:   0%|                                                 | 0/525 [00:00<?, ?it/s]"
      ]
     },
     "metadata": {},
     "output_type": "display_data"
    },
    {
     "data": {
      "application/vnd.jupyter.widget-view+json": {
       "model_id": "",
       "version_major": 2,
       "version_minor": 0
      },
      "text/plain": [
       "Training data Evaluate:   0%|                                    | 0/525 [00:00<?, ?it/s]"
      ]
     },
     "metadata": {},
     "output_type": "display_data"
    },
    {
     "name": "stdout",
     "output_type": "stream",
     "text": [
      "Training data Evaluation : loss=0.058289 Accuracy=98.4 %\n"
     ]
    },
    {
     "data": {
      "application/vnd.jupyter.widget-view+json": {
       "model_id": "",
       "version_major": 2,
       "version_minor": 0
      },
      "text/plain": [
       "Validation data Evaluate:   0%|                                  | 0/132 [00:00<?, ?it/s]"
      ]
     },
     "metadata": {},
     "output_type": "display_data"
    },
    {
     "name": "stdout",
     "output_type": "stream",
     "text": [
      "Validation data Evaluation : loss=0.066055 Accuracy=98.1 %\n",
      "lr : 0.001 -> 0.001\n",
      "saving : ../modelWeights/SimpleCNN_epoch41_Acc98.1.pth\n"
     ]
    },
    {
     "data": {
      "application/vnd.jupyter.widget-view+json": {
       "model_id": "871cd0b4d76a4155b6c10799b69527e9",
       "version_major": 2,
       "version_minor": 0
      },
      "text/plain": [
       "Epoch: 42:   0%|                                                 | 0/525 [00:00<?, ?it/s]"
      ]
     },
     "metadata": {},
     "output_type": "display_data"
    },
    {
     "data": {
      "application/vnd.jupyter.widget-view+json": {
       "model_id": "",
       "version_major": 2,
       "version_minor": 0
      },
      "text/plain": [
       "Training data Evaluate:   0%|                                    | 0/525 [00:00<?, ?it/s]"
      ]
     },
     "metadata": {},
     "output_type": "display_data"
    },
    {
     "name": "stdout",
     "output_type": "stream",
     "text": [
      "Training data Evaluation : loss=0.057647 Accuracy=98.4 %\n"
     ]
    },
    {
     "data": {
      "application/vnd.jupyter.widget-view+json": {
       "model_id": "",
       "version_major": 2,
       "version_minor": 0
      },
      "text/plain": [
       "Validation data Evaluate:   0%|                                  | 0/132 [00:00<?, ?it/s]"
      ]
     },
     "metadata": {},
     "output_type": "display_data"
    },
    {
     "name": "stdout",
     "output_type": "stream",
     "text": [
      "Validation data Evaluation : loss=0.065692 Accuracy=98.1 %\n",
      "lr : 0.001 -> 0.001\n",
      "saving : ../modelWeights/SimpleCNN_epoch42_Acc98.1.pth\n"
     ]
    },
    {
     "data": {
      "application/vnd.jupyter.widget-view+json": {
       "model_id": "7ecd55145a2c4c3bbec9eaeed9d2c07f",
       "version_major": 2,
       "version_minor": 0
      },
      "text/plain": [
       "Epoch: 43:   0%|                                                 | 0/525 [00:00<?, ?it/s]"
      ]
     },
     "metadata": {},
     "output_type": "display_data"
    },
    {
     "data": {
      "application/vnd.jupyter.widget-view+json": {
       "model_id": "",
       "version_major": 2,
       "version_minor": 0
      },
      "text/plain": [
       "Training data Evaluate:   0%|                                    | 0/525 [00:00<?, ?it/s]"
      ]
     },
     "metadata": {},
     "output_type": "display_data"
    },
    {
     "name": "stdout",
     "output_type": "stream",
     "text": [
      "Training data Evaluation : loss=0.057133 Accuracy=98.4 %\n"
     ]
    },
    {
     "data": {
      "application/vnd.jupyter.widget-view+json": {
       "model_id": "",
       "version_major": 2,
       "version_minor": 0
      },
      "text/plain": [
       "Validation data Evaluate:   0%|                                  | 0/132 [00:00<?, ?it/s]"
      ]
     },
     "metadata": {},
     "output_type": "display_data"
    },
    {
     "name": "stdout",
     "output_type": "stream",
     "text": [
      "Validation data Evaluation : loss=0.065077 Accuracy=98.1 %\n",
      "lr : 0.001 -> 0.001\n",
      "saving : ../modelWeights/SimpleCNN_epoch43_Acc98.1.pth\n"
     ]
    },
    {
     "data": {
      "application/vnd.jupyter.widget-view+json": {
       "model_id": "7c63bc015e9c44b684a0f715e1e523a7",
       "version_major": 2,
       "version_minor": 0
      },
      "text/plain": [
       "Epoch: 44:   0%|                                                 | 0/525 [00:00<?, ?it/s]"
      ]
     },
     "metadata": {},
     "output_type": "display_data"
    },
    {
     "data": {
      "application/vnd.jupyter.widget-view+json": {
       "model_id": "",
       "version_major": 2,
       "version_minor": 0
      },
      "text/plain": [
       "Training data Evaluate:   0%|                                    | 0/525 [00:00<?, ?it/s]"
      ]
     },
     "metadata": {},
     "output_type": "display_data"
    },
    {
     "name": "stdout",
     "output_type": "stream",
     "text": [
      "Training data Evaluation : loss=0.056761 Accuracy=98.4 %\n"
     ]
    },
    {
     "data": {
      "application/vnd.jupyter.widget-view+json": {
       "model_id": "",
       "version_major": 2,
       "version_minor": 0
      },
      "text/plain": [
       "Validation data Evaluate:   0%|                                  | 0/132 [00:00<?, ?it/s]"
      ]
     },
     "metadata": {},
     "output_type": "display_data"
    },
    {
     "name": "stdout",
     "output_type": "stream",
     "text": [
      "Validation data Evaluation : loss=0.065107 Accuracy=98.1 %\n",
      "lr : 0.001 -> 0.001\n",
      "saving : ../modelWeights/SimpleCNN_epoch44_Acc98.1.pth\n"
     ]
    },
    {
     "data": {
      "application/vnd.jupyter.widget-view+json": {
       "model_id": "5ce4b8a409534425aceb093d49724af0",
       "version_major": 2,
       "version_minor": 0
      },
      "text/plain": [
       "Epoch: 45:   0%|                                                 | 0/525 [00:00<?, ?it/s]"
      ]
     },
     "metadata": {},
     "output_type": "display_data"
    },
    {
     "data": {
      "application/vnd.jupyter.widget-view+json": {
       "model_id": "",
       "version_major": 2,
       "version_minor": 0
      },
      "text/plain": [
       "Training data Evaluate:   0%|                                    | 0/525 [00:00<?, ?it/s]"
      ]
     },
     "metadata": {},
     "output_type": "display_data"
    },
    {
     "name": "stdout",
     "output_type": "stream",
     "text": [
      "Training data Evaluation : loss=0.056598 Accuracy=98.4 %\n"
     ]
    },
    {
     "data": {
      "application/vnd.jupyter.widget-view+json": {
       "model_id": "",
       "version_major": 2,
       "version_minor": 0
      },
      "text/plain": [
       "Validation data Evaluate:   0%|                                  | 0/132 [00:00<?, ?it/s]"
      ]
     },
     "metadata": {},
     "output_type": "display_data"
    },
    {
     "name": "stdout",
     "output_type": "stream",
     "text": [
      "Validation data Evaluation : loss=0.065672 Accuracy=98.0 %\n",
      "lr : 0.001 -> 0.001\n",
      "saving : ../modelWeights/SimpleCNN_epoch45_Acc98.0.pth\n"
     ]
    },
    {
     "data": {
      "application/vnd.jupyter.widget-view+json": {
       "model_id": "7eb7d3d9d77a4c54ae7ced7c30640348",
       "version_major": 2,
       "version_minor": 0
      },
      "text/plain": [
       "Epoch: 46:   0%|                                                 | 0/525 [00:00<?, ?it/s]"
      ]
     },
     "metadata": {},
     "output_type": "display_data"
    },
    {
     "data": {
      "application/vnd.jupyter.widget-view+json": {
       "model_id": "",
       "version_major": 2,
       "version_minor": 0
      },
      "text/plain": [
       "Training data Evaluate:   0%|                                    | 0/525 [00:00<?, ?it/s]"
      ]
     },
     "metadata": {},
     "output_type": "display_data"
    },
    {
     "name": "stdout",
     "output_type": "stream",
     "text": [
      "Training data Evaluation : loss=0.054470 Accuracy=98.5 %\n"
     ]
    },
    {
     "data": {
      "application/vnd.jupyter.widget-view+json": {
       "model_id": "",
       "version_major": 2,
       "version_minor": 0
      },
      "text/plain": [
       "Validation data Evaluate:   0%|                                  | 0/132 [00:00<?, ?it/s]"
      ]
     },
     "metadata": {},
     "output_type": "display_data"
    },
    {
     "name": "stdout",
     "output_type": "stream",
     "text": [
      "Validation data Evaluation : loss=0.063626 Accuracy=98.1 %\n",
      "lr : 0.001 -> 0.001\n",
      "saving : ../modelWeights/SimpleCNN_epoch46_Acc98.1.pth\n"
     ]
    },
    {
     "data": {
      "application/vnd.jupyter.widget-view+json": {
       "model_id": "45bcde53523a46b9a757f4d8d9e8ebbc",
       "version_major": 2,
       "version_minor": 0
      },
      "text/plain": [
       "Epoch: 47:   0%|                                                 | 0/525 [00:00<?, ?it/s]"
      ]
     },
     "metadata": {},
     "output_type": "display_data"
    },
    {
     "data": {
      "application/vnd.jupyter.widget-view+json": {
       "model_id": "",
       "version_major": 2,
       "version_minor": 0
      },
      "text/plain": [
       "Training data Evaluate:   0%|                                    | 0/525 [00:00<?, ?it/s]"
      ]
     },
     "metadata": {},
     "output_type": "display_data"
    },
    {
     "name": "stdout",
     "output_type": "stream",
     "text": [
      "Training data Evaluation : loss=0.054047 Accuracy=98.5 %\n"
     ]
    },
    {
     "data": {
      "application/vnd.jupyter.widget-view+json": {
       "model_id": "",
       "version_major": 2,
       "version_minor": 0
      },
      "text/plain": [
       "Validation data Evaluate:   0%|                                  | 0/132 [00:00<?, ?it/s]"
      ]
     },
     "metadata": {},
     "output_type": "display_data"
    },
    {
     "name": "stdout",
     "output_type": "stream",
     "text": [
      "Validation data Evaluation : loss=0.063228 Accuracy=98.1 %\n",
      "lr : 0.001 -> 0.001\n",
      "saving : ../modelWeights/SimpleCNN_epoch47_Acc98.1.pth\n"
     ]
    },
    {
     "data": {
      "application/vnd.jupyter.widget-view+json": {
       "model_id": "fc71ce9af71546c1bbec211ce6174648",
       "version_major": 2,
       "version_minor": 0
      },
      "text/plain": [
       "Epoch: 48:   0%|                                                 | 0/525 [00:00<?, ?it/s]"
      ]
     },
     "metadata": {},
     "output_type": "display_data"
    },
    {
     "data": {
      "application/vnd.jupyter.widget-view+json": {
       "model_id": "",
       "version_major": 2,
       "version_minor": 0
      },
      "text/plain": [
       "Training data Evaluate:   0%|                                    | 0/525 [00:00<?, ?it/s]"
      ]
     },
     "metadata": {},
     "output_type": "display_data"
    },
    {
     "name": "stdout",
     "output_type": "stream",
     "text": [
      "Training data Evaluation : loss=0.053427 Accuracy=98.5 %\n"
     ]
    },
    {
     "data": {
      "application/vnd.jupyter.widget-view+json": {
       "model_id": "",
       "version_major": 2,
       "version_minor": 0
      },
      "text/plain": [
       "Validation data Evaluate:   0%|                                  | 0/132 [00:00<?, ?it/s]"
      ]
     },
     "metadata": {},
     "output_type": "display_data"
    },
    {
     "name": "stdout",
     "output_type": "stream",
     "text": [
      "Validation data Evaluation : loss=0.062553 Accuracy=98.2 %\n",
      "lr : 0.001 -> 0.001\n",
      "saving : ../modelWeights/SimpleCNN_epoch48_Acc98.2.pth\n"
     ]
    },
    {
     "data": {
      "application/vnd.jupyter.widget-view+json": {
       "model_id": "cf217c3954c847b3a23f4312a2c748cc",
       "version_major": 2,
       "version_minor": 0
      },
      "text/plain": [
       "Epoch: 49:   0%|                                                 | 0/525 [00:00<?, ?it/s]"
      ]
     },
     "metadata": {},
     "output_type": "display_data"
    },
    {
     "data": {
      "application/vnd.jupyter.widget-view+json": {
       "model_id": "",
       "version_major": 2,
       "version_minor": 0
      },
      "text/plain": [
       "Training data Evaluate:   0%|                                    | 0/525 [00:00<?, ?it/s]"
      ]
     },
     "metadata": {},
     "output_type": "display_data"
    },
    {
     "name": "stdout",
     "output_type": "stream",
     "text": [
      "Training data Evaluation : loss=0.052310 Accuracy=98.6 %\n"
     ]
    },
    {
     "data": {
      "application/vnd.jupyter.widget-view+json": {
       "model_id": "",
       "version_major": 2,
       "version_minor": 0
      },
      "text/plain": [
       "Validation data Evaluate:   0%|                                  | 0/132 [00:00<?, ?it/s]"
      ]
     },
     "metadata": {},
     "output_type": "display_data"
    },
    {
     "name": "stdout",
     "output_type": "stream",
     "text": [
      "Validation data Evaluation : loss=0.061852 Accuracy=98.2 %\n",
      "lr : 0.001 -> 0.001\n",
      "saving : ../modelWeights/SimpleCNN_epoch49_Acc98.2.pth\n"
     ]
    },
    {
     "data": {
      "application/vnd.jupyter.widget-view+json": {
       "model_id": "6d55267f794a4af1bc7d9f2810551b07",
       "version_major": 2,
       "version_minor": 0
      },
      "text/plain": [
       "Epoch: 50:   0%|                                                 | 0/525 [00:00<?, ?it/s]"
      ]
     },
     "metadata": {},
     "output_type": "display_data"
    },
    {
     "data": {
      "application/vnd.jupyter.widget-view+json": {
       "model_id": "",
       "version_major": 2,
       "version_minor": 0
      },
      "text/plain": [
       "Training data Evaluate:   0%|                                    | 0/525 [00:00<?, ?it/s]"
      ]
     },
     "metadata": {},
     "output_type": "display_data"
    },
    {
     "name": "stdout",
     "output_type": "stream",
     "text": [
      "Training data Evaluation : loss=0.051812 Accuracy=98.6 %\n"
     ]
    },
    {
     "data": {
      "application/vnd.jupyter.widget-view+json": {
       "model_id": "",
       "version_major": 2,
       "version_minor": 0
      },
      "text/plain": [
       "Validation data Evaluate:   0%|                                  | 0/132 [00:00<?, ?it/s]"
      ]
     },
     "metadata": {},
     "output_type": "display_data"
    },
    {
     "name": "stdout",
     "output_type": "stream",
     "text": [
      "Validation data Evaluation : loss=0.061849 Accuracy=98.2 %\n",
      "lr : 0.001 -> 0.001\n",
      "saving : ../modelWeights/SimpleCNN_epoch50_Acc98.2.pth\n"
     ]
    },
    {
     "data": {
      "application/vnd.jupyter.widget-view+json": {
       "model_id": "925481e299c3447e85e965dbbee36267",
       "version_major": 2,
       "version_minor": 0
      },
      "text/plain": [
       "Epoch: 51:   0%|                                                 | 0/525 [00:00<?, ?it/s]"
      ]
     },
     "metadata": {},
     "output_type": "display_data"
    },
    {
     "data": {
      "application/vnd.jupyter.widget-view+json": {
       "model_id": "",
       "version_major": 2,
       "version_minor": 0
      },
      "text/plain": [
       "Training data Evaluate:   0%|                                    | 0/525 [00:00<?, ?it/s]"
      ]
     },
     "metadata": {},
     "output_type": "display_data"
    },
    {
     "name": "stdout",
     "output_type": "stream",
     "text": [
      "Training data Evaluation : loss=0.050666 Accuracy=98.6 %\n"
     ]
    },
    {
     "data": {
      "application/vnd.jupyter.widget-view+json": {
       "model_id": "",
       "version_major": 2,
       "version_minor": 0
      },
      "text/plain": [
       "Validation data Evaluate:   0%|                                  | 0/132 [00:00<?, ?it/s]"
      ]
     },
     "metadata": {},
     "output_type": "display_data"
    },
    {
     "name": "stdout",
     "output_type": "stream",
     "text": [
      "Validation data Evaluation : loss=0.061011 Accuracy=98.1 %\n",
      "lr : 0.001 -> 0.001\n",
      "saving : ../modelWeights/SimpleCNN_epoch51_Acc98.1.pth\n"
     ]
    },
    {
     "data": {
      "application/vnd.jupyter.widget-view+json": {
       "model_id": "ac0db772287a4e7bbbdc618eaa64b57e",
       "version_major": 2,
       "version_minor": 0
      },
      "text/plain": [
       "Epoch: 52:   0%|                                                 | 0/525 [00:00<?, ?it/s]"
      ]
     },
     "metadata": {},
     "output_type": "display_data"
    },
    {
     "data": {
      "application/vnd.jupyter.widget-view+json": {
       "model_id": "",
       "version_major": 2,
       "version_minor": 0
      },
      "text/plain": [
       "Training data Evaluate:   0%|                                    | 0/525 [00:00<?, ?it/s]"
      ]
     },
     "metadata": {},
     "output_type": "display_data"
    },
    {
     "name": "stdout",
     "output_type": "stream",
     "text": [
      "Training data Evaluation : loss=0.050360 Accuracy=98.6 %\n"
     ]
    },
    {
     "data": {
      "application/vnd.jupyter.widget-view+json": {
       "model_id": "",
       "version_major": 2,
       "version_minor": 0
      },
      "text/plain": [
       "Validation data Evaluate:   0%|                                  | 0/132 [00:00<?, ?it/s]"
      ]
     },
     "metadata": {},
     "output_type": "display_data"
    },
    {
     "name": "stdout",
     "output_type": "stream",
     "text": [
      "Validation data Evaluation : loss=0.060515 Accuracy=98.2 %\n",
      "lr : 0.001 -> 0.001\n",
      "saving : ../modelWeights/SimpleCNN_epoch52_Acc98.2.pth\n"
     ]
    },
    {
     "data": {
      "application/vnd.jupyter.widget-view+json": {
       "model_id": "cf8b2320d15d482fbb17e2b9277af96b",
       "version_major": 2,
       "version_minor": 0
      },
      "text/plain": [
       "Epoch: 53:   0%|                                                 | 0/525 [00:00<?, ?it/s]"
      ]
     },
     "metadata": {},
     "output_type": "display_data"
    },
    {
     "data": {
      "application/vnd.jupyter.widget-view+json": {
       "model_id": "",
       "version_major": 2,
       "version_minor": 0
      },
      "text/plain": [
       "Training data Evaluate:   0%|                                    | 0/525 [00:00<?, ?it/s]"
      ]
     },
     "metadata": {},
     "output_type": "display_data"
    },
    {
     "name": "stdout",
     "output_type": "stream",
     "text": [
      "Training data Evaluation : loss=0.049314 Accuracy=98.7 %\n"
     ]
    },
    {
     "data": {
      "application/vnd.jupyter.widget-view+json": {
       "model_id": "",
       "version_major": 2,
       "version_minor": 0
      },
      "text/plain": [
       "Validation data Evaluate:   0%|                                  | 0/132 [00:00<?, ?it/s]"
      ]
     },
     "metadata": {},
     "output_type": "display_data"
    },
    {
     "name": "stdout",
     "output_type": "stream",
     "text": [
      "Validation data Evaluation : loss=0.059513 Accuracy=98.2 %\n",
      "lr : 0.001 -> 0.001\n",
      "saving : ../modelWeights/SimpleCNN_epoch53_Acc98.2.pth\n"
     ]
    },
    {
     "data": {
      "application/vnd.jupyter.widget-view+json": {
       "model_id": "a6ddaf393e5f453aa8d73cf2f976f5b0",
       "version_major": 2,
       "version_minor": 0
      },
      "text/plain": [
       "Epoch: 54:   0%|                                                 | 0/525 [00:00<?, ?it/s]"
      ]
     },
     "metadata": {},
     "output_type": "display_data"
    },
    {
     "data": {
      "application/vnd.jupyter.widget-view+json": {
       "model_id": "",
       "version_major": 2,
       "version_minor": 0
      },
      "text/plain": [
       "Training data Evaluate:   0%|                                    | 0/525 [00:00<?, ?it/s]"
      ]
     },
     "metadata": {},
     "output_type": "display_data"
    },
    {
     "name": "stdout",
     "output_type": "stream",
     "text": [
      "Training data Evaluation : loss=0.048840 Accuracy=98.7 %\n"
     ]
    },
    {
     "data": {
      "application/vnd.jupyter.widget-view+json": {
       "model_id": "",
       "version_major": 2,
       "version_minor": 0
      },
      "text/plain": [
       "Validation data Evaluate:   0%|                                  | 0/132 [00:00<?, ?it/s]"
      ]
     },
     "metadata": {},
     "output_type": "display_data"
    },
    {
     "name": "stdout",
     "output_type": "stream",
     "text": [
      "Validation data Evaluation : loss=0.059608 Accuracy=98.2 %\n",
      "lr : 0.001 -> 0.001\n",
      "saving : ../modelWeights/SimpleCNN_epoch54_Acc98.2.pth\n"
     ]
    },
    {
     "data": {
      "application/vnd.jupyter.widget-view+json": {
       "model_id": "6ac7fa9ce727409e81fec58fca838353",
       "version_major": 2,
       "version_minor": 0
      },
      "text/plain": [
       "Epoch: 55:   0%|                                                 | 0/525 [00:00<?, ?it/s]"
      ]
     },
     "metadata": {},
     "output_type": "display_data"
    },
    {
     "data": {
      "application/vnd.jupyter.widget-view+json": {
       "model_id": "",
       "version_major": 2,
       "version_minor": 0
      },
      "text/plain": [
       "Training data Evaluate:   0%|                                    | 0/525 [00:00<?, ?it/s]"
      ]
     },
     "metadata": {},
     "output_type": "display_data"
    },
    {
     "name": "stdout",
     "output_type": "stream",
     "text": [
      "Training data Evaluation : loss=0.048727 Accuracy=98.7 %\n"
     ]
    },
    {
     "data": {
      "application/vnd.jupyter.widget-view+json": {
       "model_id": "",
       "version_major": 2,
       "version_minor": 0
      },
      "text/plain": [
       "Validation data Evaluate:   0%|                                  | 0/132 [00:00<?, ?it/s]"
      ]
     },
     "metadata": {},
     "output_type": "display_data"
    },
    {
     "name": "stdout",
     "output_type": "stream",
     "text": [
      "Validation data Evaluation : loss=0.059564 Accuracy=98.2 %\n",
      "lr : 0.001 -> 0.001\n",
      "saving : ../modelWeights/SimpleCNN_epoch55_Acc98.2.pth\n"
     ]
    },
    {
     "data": {
      "application/vnd.jupyter.widget-view+json": {
       "model_id": "7f88c755243a46b08da738fcff240c61",
       "version_major": 2,
       "version_minor": 0
      },
      "text/plain": [
       "Epoch: 56:   0%|                                                 | 0/525 [00:00<?, ?it/s]"
      ]
     },
     "metadata": {},
     "output_type": "display_data"
    },
    {
     "data": {
      "application/vnd.jupyter.widget-view+json": {
       "model_id": "",
       "version_major": 2,
       "version_minor": 0
      },
      "text/plain": [
       "Training data Evaluate:   0%|                                    | 0/525 [00:00<?, ?it/s]"
      ]
     },
     "metadata": {},
     "output_type": "display_data"
    },
    {
     "name": "stdout",
     "output_type": "stream",
     "text": [
      "Training data Evaluation : loss=0.047767 Accuracy=98.7 %\n"
     ]
    },
    {
     "data": {
      "application/vnd.jupyter.widget-view+json": {
       "model_id": "",
       "version_major": 2,
       "version_minor": 0
      },
      "text/plain": [
       "Validation data Evaluate:   0%|                                  | 0/132 [00:00<?, ?it/s]"
      ]
     },
     "metadata": {},
     "output_type": "display_data"
    },
    {
     "name": "stdout",
     "output_type": "stream",
     "text": [
      "Validation data Evaluation : loss=0.058889 Accuracy=98.2 %\n",
      "lr : 0.001 -> 0.001\n",
      "saving : ../modelWeights/SimpleCNN_epoch56_Acc98.2.pth\n"
     ]
    },
    {
     "data": {
      "application/vnd.jupyter.widget-view+json": {
       "model_id": "4268777dc89f4d62b2272eccb62ba4ab",
       "version_major": 2,
       "version_minor": 0
      },
      "text/plain": [
       "Epoch: 57:   0%|                                                 | 0/525 [00:00<?, ?it/s]"
      ]
     },
     "metadata": {},
     "output_type": "display_data"
    },
    {
     "data": {
      "application/vnd.jupyter.widget-view+json": {
       "model_id": "",
       "version_major": 2,
       "version_minor": 0
      },
      "text/plain": [
       "Training data Evaluate:   0%|                                    | 0/525 [00:00<?, ?it/s]"
      ]
     },
     "metadata": {},
     "output_type": "display_data"
    },
    {
     "name": "stdout",
     "output_type": "stream",
     "text": [
      "Training data Evaluation : loss=0.047321 Accuracy=98.7 %\n"
     ]
    },
    {
     "data": {
      "application/vnd.jupyter.widget-view+json": {
       "model_id": "",
       "version_major": 2,
       "version_minor": 0
      },
      "text/plain": [
       "Validation data Evaluate:   0%|                                  | 0/132 [00:00<?, ?it/s]"
      ]
     },
     "metadata": {},
     "output_type": "display_data"
    },
    {
     "name": "stdout",
     "output_type": "stream",
     "text": [
      "Validation data Evaluation : loss=0.058598 Accuracy=98.2 %\n",
      "lr : 0.001 -> 0.001\n",
      "saving : ../modelWeights/SimpleCNN_epoch57_Acc98.2.pth\n"
     ]
    },
    {
     "data": {
      "application/vnd.jupyter.widget-view+json": {
       "model_id": "1c314b00e412427faac5b324da35f45f",
       "version_major": 2,
       "version_minor": 0
      },
      "text/plain": [
       "Epoch: 58:   0%|                                                 | 0/525 [00:00<?, ?it/s]"
      ]
     },
     "metadata": {},
     "output_type": "display_data"
    },
    {
     "data": {
      "application/vnd.jupyter.widget-view+json": {
       "model_id": "",
       "version_major": 2,
       "version_minor": 0
      },
      "text/plain": [
       "Training data Evaluate:   0%|                                    | 0/525 [00:00<?, ?it/s]"
      ]
     },
     "metadata": {},
     "output_type": "display_data"
    },
    {
     "name": "stdout",
     "output_type": "stream",
     "text": [
      "Training data Evaluation : loss=0.046435 Accuracy=98.7 %\n"
     ]
    },
    {
     "data": {
      "application/vnd.jupyter.widget-view+json": {
       "model_id": "",
       "version_major": 2,
       "version_minor": 0
      },
      "text/plain": [
       "Validation data Evaluate:   0%|                                  | 0/132 [00:00<?, ?it/s]"
      ]
     },
     "metadata": {},
     "output_type": "display_data"
    },
    {
     "name": "stdout",
     "output_type": "stream",
     "text": [
      "Validation data Evaluation : loss=0.057999 Accuracy=98.3 %\n",
      "lr : 0.001 -> 0.001\n",
      "saving : ../modelWeights/SimpleCNN_epoch58_Acc98.3.pth\n"
     ]
    },
    {
     "data": {
      "application/vnd.jupyter.widget-view+json": {
       "model_id": "ae7a9d634a124022b5be2c637a9e46c3",
       "version_major": 2,
       "version_minor": 0
      },
      "text/plain": [
       "Epoch: 59:   0%|                                                 | 0/525 [00:00<?, ?it/s]"
      ]
     },
     "metadata": {},
     "output_type": "display_data"
    },
    {
     "data": {
      "application/vnd.jupyter.widget-view+json": {
       "model_id": "",
       "version_major": 2,
       "version_minor": 0
      },
      "text/plain": [
       "Training data Evaluate:   0%|                                    | 0/525 [00:00<?, ?it/s]"
      ]
     },
     "metadata": {},
     "output_type": "display_data"
    },
    {
     "name": "stdout",
     "output_type": "stream",
     "text": [
      "Training data Evaluation : loss=0.046246 Accuracy=98.7 %\n"
     ]
    },
    {
     "data": {
      "application/vnd.jupyter.widget-view+json": {
       "model_id": "",
       "version_major": 2,
       "version_minor": 0
      },
      "text/plain": [
       "Validation data Evaluate:   0%|                                  | 0/132 [00:00<?, ?it/s]"
      ]
     },
     "metadata": {},
     "output_type": "display_data"
    },
    {
     "name": "stdout",
     "output_type": "stream",
     "text": [
      "Validation data Evaluation : loss=0.058223 Accuracy=98.2 %\n",
      "lr : 0.001 -> 0.001\n",
      "saving : ../modelWeights/SimpleCNN_epoch59_Acc98.2.pth\n"
     ]
    },
    {
     "data": {
      "application/vnd.jupyter.widget-view+json": {
       "model_id": "bd5ee9882ede4f9789fdeda6ac46a929",
       "version_major": 2,
       "version_minor": 0
      },
      "text/plain": [
       "Epoch: 60:   0%|                                                 | 0/525 [00:00<?, ?it/s]"
      ]
     },
     "metadata": {},
     "output_type": "display_data"
    },
    {
     "data": {
      "application/vnd.jupyter.widget-view+json": {
       "model_id": "",
       "version_major": 2,
       "version_minor": 0
      },
      "text/plain": [
       "Training data Evaluate:   0%|                                    | 0/525 [00:00<?, ?it/s]"
      ]
     },
     "metadata": {},
     "output_type": "display_data"
    },
    {
     "name": "stdout",
     "output_type": "stream",
     "text": [
      "Training data Evaluation : loss=0.045932 Accuracy=98.8 %\n"
     ]
    },
    {
     "data": {
      "application/vnd.jupyter.widget-view+json": {
       "model_id": "",
       "version_major": 2,
       "version_minor": 0
      },
      "text/plain": [
       "Validation data Evaluate:   0%|                                  | 0/132 [00:00<?, ?it/s]"
      ]
     },
     "metadata": {},
     "output_type": "display_data"
    },
    {
     "name": "stdout",
     "output_type": "stream",
     "text": [
      "Validation data Evaluation : loss=0.060884 Accuracy=98.3 %\n",
      "lr : 0.001 -> 0.001\n",
      "saving : ../modelWeights/SimpleCNN_epoch60_Acc98.3.pth\n"
     ]
    },
    {
     "data": {
      "application/vnd.jupyter.widget-view+json": {
       "model_id": "f5f32561407540d6ad64f2c72f8d33b9",
       "version_major": 2,
       "version_minor": 0
      },
      "text/plain": [
       "Epoch: 61:   0%|                                                 | 0/525 [00:00<?, ?it/s]"
      ]
     },
     "metadata": {},
     "output_type": "display_data"
    },
    {
     "data": {
      "application/vnd.jupyter.widget-view+json": {
       "model_id": "",
       "version_major": 2,
       "version_minor": 0
      },
      "text/plain": [
       "Training data Evaluate:   0%|                                    | 0/525 [00:00<?, ?it/s]"
      ]
     },
     "metadata": {},
     "output_type": "display_data"
    },
    {
     "name": "stdout",
     "output_type": "stream",
     "text": [
      "Training data Evaluation : loss=0.045202 Accuracy=98.8 %\n"
     ]
    },
    {
     "data": {
      "application/vnd.jupyter.widget-view+json": {
       "model_id": "",
       "version_major": 2,
       "version_minor": 0
      },
      "text/plain": [
       "Validation data Evaluate:   0%|                                  | 0/132 [00:00<?, ?it/s]"
      ]
     },
     "metadata": {},
     "output_type": "display_data"
    },
    {
     "name": "stdout",
     "output_type": "stream",
     "text": [
      "Validation data Evaluation : loss=0.057114 Accuracy=98.3 %\n",
      "lr : 0.001 -> 0.001\n",
      "saving : ../modelWeights/SimpleCNN_epoch61_Acc98.3.pth\n"
     ]
    },
    {
     "data": {
      "application/vnd.jupyter.widget-view+json": {
       "model_id": "0da7252aa295451d8bc2852213450dbe",
       "version_major": 2,
       "version_minor": 0
      },
      "text/plain": [
       "Epoch: 62:   0%|                                                 | 0/525 [00:00<?, ?it/s]"
      ]
     },
     "metadata": {},
     "output_type": "display_data"
    },
    {
     "data": {
      "application/vnd.jupyter.widget-view+json": {
       "model_id": "",
       "version_major": 2,
       "version_minor": 0
      },
      "text/plain": [
       "Training data Evaluate:   0%|                                    | 0/525 [00:00<?, ?it/s]"
      ]
     },
     "metadata": {},
     "output_type": "display_data"
    },
    {
     "name": "stdout",
     "output_type": "stream",
     "text": [
      "Training data Evaluation : loss=0.044678 Accuracy=98.8 %\n"
     ]
    },
    {
     "data": {
      "application/vnd.jupyter.widget-view+json": {
       "model_id": "",
       "version_major": 2,
       "version_minor": 0
      },
      "text/plain": [
       "Validation data Evaluate:   0%|                                  | 0/132 [00:00<?, ?it/s]"
      ]
     },
     "metadata": {},
     "output_type": "display_data"
    },
    {
     "name": "stdout",
     "output_type": "stream",
     "text": [
      "Validation data Evaluation : loss=0.056478 Accuracy=98.3 %\n",
      "lr : 0.001 -> 0.001\n",
      "saving : ../modelWeights/SimpleCNN_epoch62_Acc98.3.pth\n"
     ]
    },
    {
     "data": {
      "application/vnd.jupyter.widget-view+json": {
       "model_id": "77099e0b877542b6aaa0f5aaa3718a59",
       "version_major": 2,
       "version_minor": 0
      },
      "text/plain": [
       "Epoch: 63:   0%|                                                 | 0/525 [00:00<?, ?it/s]"
      ]
     },
     "metadata": {},
     "output_type": "display_data"
    },
    {
     "data": {
      "application/vnd.jupyter.widget-view+json": {
       "model_id": "",
       "version_major": 2,
       "version_minor": 0
      },
      "text/plain": [
       "Training data Evaluate:   0%|                                    | 0/525 [00:00<?, ?it/s]"
      ]
     },
     "metadata": {},
     "output_type": "display_data"
    },
    {
     "name": "stdout",
     "output_type": "stream",
     "text": [
      "Training data Evaluation : loss=0.044208 Accuracy=98.8 %\n"
     ]
    },
    {
     "data": {
      "application/vnd.jupyter.widget-view+json": {
       "model_id": "",
       "version_major": 2,
       "version_minor": 0
      },
      "text/plain": [
       "Validation data Evaluate:   0%|                                  | 0/132 [00:00<?, ?it/s]"
      ]
     },
     "metadata": {},
     "output_type": "display_data"
    },
    {
     "name": "stdout",
     "output_type": "stream",
     "text": [
      "Validation data Evaluation : loss=0.057131 Accuracy=98.3 %\n",
      "lr : 0.001 -> 0.001\n",
      "saving : ../modelWeights/SimpleCNN_epoch63_Acc98.3.pth\n"
     ]
    },
    {
     "data": {
      "application/vnd.jupyter.widget-view+json": {
       "model_id": "f8a33d4cd6924de189a6723179aa1747",
       "version_major": 2,
       "version_minor": 0
      },
      "text/plain": [
       "Epoch: 64:   0%|                                                 | 0/525 [00:00<?, ?it/s]"
      ]
     },
     "metadata": {},
     "output_type": "display_data"
    },
    {
     "data": {
      "application/vnd.jupyter.widget-view+json": {
       "model_id": "",
       "version_major": 2,
       "version_minor": 0
      },
      "text/plain": [
       "Training data Evaluate:   0%|                                    | 0/525 [00:00<?, ?it/s]"
      ]
     },
     "metadata": {},
     "output_type": "display_data"
    },
    {
     "name": "stdout",
     "output_type": "stream",
     "text": [
      "Training data Evaluation : loss=0.043731 Accuracy=98.8 %\n"
     ]
    },
    {
     "data": {
      "application/vnd.jupyter.widget-view+json": {
       "model_id": "",
       "version_major": 2,
       "version_minor": 0
      },
      "text/plain": [
       "Validation data Evaluate:   0%|                                  | 0/132 [00:00<?, ?it/s]"
      ]
     },
     "metadata": {},
     "output_type": "display_data"
    },
    {
     "name": "stdout",
     "output_type": "stream",
     "text": [
      "Validation data Evaluation : loss=0.056473 Accuracy=98.3 %\n",
      "lr : 0.001 -> 0.001\n",
      "saving : ../modelWeights/SimpleCNN_epoch64_Acc98.3.pth\n"
     ]
    },
    {
     "data": {
      "application/vnd.jupyter.widget-view+json": {
       "model_id": "0b097cdaf4934c9b952d177a0d515fa3",
       "version_major": 2,
       "version_minor": 0
      },
      "text/plain": [
       "Epoch: 65:   0%|                                                 | 0/525 [00:00<?, ?it/s]"
      ]
     },
     "metadata": {},
     "output_type": "display_data"
    },
    {
     "data": {
      "application/vnd.jupyter.widget-view+json": {
       "model_id": "",
       "version_major": 2,
       "version_minor": 0
      },
      "text/plain": [
       "Training data Evaluate:   0%|                                    | 0/525 [00:00<?, ?it/s]"
      ]
     },
     "metadata": {},
     "output_type": "display_data"
    },
    {
     "name": "stdout",
     "output_type": "stream",
     "text": [
      "Training data Evaluation : loss=0.043250 Accuracy=98.8 %\n"
     ]
    },
    {
     "data": {
      "application/vnd.jupyter.widget-view+json": {
       "model_id": "",
       "version_major": 2,
       "version_minor": 0
      },
      "text/plain": [
       "Validation data Evaluate:   0%|                                  | 0/132 [00:00<?, ?it/s]"
      ]
     },
     "metadata": {},
     "output_type": "display_data"
    },
    {
     "name": "stdout",
     "output_type": "stream",
     "text": [
      "Validation data Evaluation : loss=0.057004 Accuracy=98.4 %\n",
      "lr : 0.001 -> 0.001\n",
      "saving : ../modelWeights/SimpleCNN_epoch65_Acc98.4.pth\n"
     ]
    },
    {
     "data": {
      "application/vnd.jupyter.widget-view+json": {
       "model_id": "cec3ea1b884d43ddb9323f8e704e8ae9",
       "version_major": 2,
       "version_minor": 0
      },
      "text/plain": [
       "Epoch: 66:   0%|                                                 | 0/525 [00:00<?, ?it/s]"
      ]
     },
     "metadata": {},
     "output_type": "display_data"
    },
    {
     "data": {
      "application/vnd.jupyter.widget-view+json": {
       "model_id": "",
       "version_major": 2,
       "version_minor": 0
      },
      "text/plain": [
       "Training data Evaluate:   0%|                                    | 0/525 [00:00<?, ?it/s]"
      ]
     },
     "metadata": {},
     "output_type": "display_data"
    },
    {
     "name": "stdout",
     "output_type": "stream",
     "text": [
      "Training data Evaluation : loss=0.042579 Accuracy=98.9 %\n"
     ]
    },
    {
     "data": {
      "application/vnd.jupyter.widget-view+json": {
       "model_id": "",
       "version_major": 2,
       "version_minor": 0
      },
      "text/plain": [
       "Validation data Evaluate:   0%|                                  | 0/132 [00:00<?, ?it/s]"
      ]
     },
     "metadata": {},
     "output_type": "display_data"
    },
    {
     "name": "stdout",
     "output_type": "stream",
     "text": [
      "Validation data Evaluation : loss=0.055512 Accuracy=98.4 %\n",
      "lr : 0.001 -> 0.001\n",
      "saving : ../modelWeights/SimpleCNN_epoch66_Acc98.4.pth\n"
     ]
    },
    {
     "data": {
      "application/vnd.jupyter.widget-view+json": {
       "model_id": "2c5c94d04a734a6996f7027f0906e6ff",
       "version_major": 2,
       "version_minor": 0
      },
      "text/plain": [
       "Epoch: 67:   0%|                                                 | 0/525 [00:00<?, ?it/s]"
      ]
     },
     "metadata": {},
     "output_type": "display_data"
    },
    {
     "data": {
      "application/vnd.jupyter.widget-view+json": {
       "model_id": "",
       "version_major": 2,
       "version_minor": 0
      },
      "text/plain": [
       "Training data Evaluate:   0%|                                    | 0/525 [00:00<?, ?it/s]"
      ]
     },
     "metadata": {},
     "output_type": "display_data"
    },
    {
     "name": "stdout",
     "output_type": "stream",
     "text": [
      "Training data Evaluation : loss=0.041959 Accuracy=98.8 %\n"
     ]
    },
    {
     "data": {
      "application/vnd.jupyter.widget-view+json": {
       "model_id": "",
       "version_major": 2,
       "version_minor": 0
      },
      "text/plain": [
       "Validation data Evaluate:   0%|                                  | 0/132 [00:00<?, ?it/s]"
      ]
     },
     "metadata": {},
     "output_type": "display_data"
    },
    {
     "name": "stdout",
     "output_type": "stream",
     "text": [
      "Validation data Evaluation : loss=0.055526 Accuracy=98.3 %\n",
      "lr : 0.001 -> 0.001\n",
      "saving : ../modelWeights/SimpleCNN_epoch67_Acc98.3.pth\n"
     ]
    },
    {
     "data": {
      "application/vnd.jupyter.widget-view+json": {
       "model_id": "847c7c6d6cb44ff197aeeb2c4e7c7ad0",
       "version_major": 2,
       "version_minor": 0
      },
      "text/plain": [
       "Epoch: 68:   0%|                                                 | 0/525 [00:00<?, ?it/s]"
      ]
     },
     "metadata": {},
     "output_type": "display_data"
    },
    {
     "data": {
      "application/vnd.jupyter.widget-view+json": {
       "model_id": "",
       "version_major": 2,
       "version_minor": 0
      },
      "text/plain": [
       "Training data Evaluate:   0%|                                    | 0/525 [00:00<?, ?it/s]"
      ]
     },
     "metadata": {},
     "output_type": "display_data"
    },
    {
     "name": "stdout",
     "output_type": "stream",
     "text": [
      "Training data Evaluation : loss=0.041420 Accuracy=98.9 %\n"
     ]
    },
    {
     "data": {
      "application/vnd.jupyter.widget-view+json": {
       "model_id": "",
       "version_major": 2,
       "version_minor": 0
      },
      "text/plain": [
       "Validation data Evaluate:   0%|                                  | 0/132 [00:00<?, ?it/s]"
      ]
     },
     "metadata": {},
     "output_type": "display_data"
    },
    {
     "name": "stdout",
     "output_type": "stream",
     "text": [
      "Validation data Evaluation : loss=0.054866 Accuracy=98.3 %\n",
      "lr : 0.001 -> 0.001\n",
      "saving : ../modelWeights/SimpleCNN_epoch68_Acc98.3.pth\n"
     ]
    },
    {
     "data": {
      "application/vnd.jupyter.widget-view+json": {
       "model_id": "68486b99d5fc43f69d22d30467dd5c6b",
       "version_major": 2,
       "version_minor": 0
      },
      "text/plain": [
       "Epoch: 69:   0%|                                                 | 0/525 [00:00<?, ?it/s]"
      ]
     },
     "metadata": {},
     "output_type": "display_data"
    },
    {
     "data": {
      "application/vnd.jupyter.widget-view+json": {
       "model_id": "",
       "version_major": 2,
       "version_minor": 0
      },
      "text/plain": [
       "Training data Evaluate:   0%|                                    | 0/525 [00:00<?, ?it/s]"
      ]
     },
     "metadata": {},
     "output_type": "display_data"
    },
    {
     "name": "stdout",
     "output_type": "stream",
     "text": [
      "Training data Evaluation : loss=0.041129 Accuracy=98.9 %\n"
     ]
    },
    {
     "data": {
      "application/vnd.jupyter.widget-view+json": {
       "model_id": "",
       "version_major": 2,
       "version_minor": 0
      },
      "text/plain": [
       "Validation data Evaluate:   0%|                                  | 0/132 [00:00<?, ?it/s]"
      ]
     },
     "metadata": {},
     "output_type": "display_data"
    },
    {
     "name": "stdout",
     "output_type": "stream",
     "text": [
      "Validation data Evaluation : loss=0.054552 Accuracy=98.4 %\n",
      "lr : 0.001 -> 0.001\n",
      "saving : ../modelWeights/SimpleCNN_epoch69_Acc98.4.pth\n"
     ]
    },
    {
     "data": {
      "application/vnd.jupyter.widget-view+json": {
       "model_id": "92420f2bd0824c27ba3c9d54321b0f21",
       "version_major": 2,
       "version_minor": 0
      },
      "text/plain": [
       "Epoch: 70:   0%|                                                 | 0/525 [00:00<?, ?it/s]"
      ]
     },
     "metadata": {},
     "output_type": "display_data"
    },
    {
     "data": {
      "application/vnd.jupyter.widget-view+json": {
       "model_id": "",
       "version_major": 2,
       "version_minor": 0
      },
      "text/plain": [
       "Training data Evaluate:   0%|                                    | 0/525 [00:00<?, ?it/s]"
      ]
     },
     "metadata": {},
     "output_type": "display_data"
    },
    {
     "name": "stdout",
     "output_type": "stream",
     "text": [
      "Training data Evaluation : loss=0.041040 Accuracy=98.9 %\n"
     ]
    },
    {
     "data": {
      "application/vnd.jupyter.widget-view+json": {
       "model_id": "",
       "version_major": 2,
       "version_minor": 0
      },
      "text/plain": [
       "Validation data Evaluate:   0%|                                  | 0/132 [00:00<?, ?it/s]"
      ]
     },
     "metadata": {},
     "output_type": "display_data"
    },
    {
     "name": "stdout",
     "output_type": "stream",
     "text": [
      "Validation data Evaluation : loss=0.054990 Accuracy=98.4 %\n",
      "lr : 0.001 -> 0.001\n",
      "saving : ../modelWeights/SimpleCNN_epoch70_Acc98.4.pth\n"
     ]
    },
    {
     "data": {
      "application/vnd.jupyter.widget-view+json": {
       "model_id": "3c88b6ce882e435daecb096e16cc3f6b",
       "version_major": 2,
       "version_minor": 0
      },
      "text/plain": [
       "Epoch: 71:   0%|                                                 | 0/525 [00:00<?, ?it/s]"
      ]
     },
     "metadata": {},
     "output_type": "display_data"
    },
    {
     "data": {
      "application/vnd.jupyter.widget-view+json": {
       "model_id": "",
       "version_major": 2,
       "version_minor": 0
      },
      "text/plain": [
       "Training data Evaluate:   0%|                                    | 0/525 [00:00<?, ?it/s]"
      ]
     },
     "metadata": {},
     "output_type": "display_data"
    },
    {
     "name": "stdout",
     "output_type": "stream",
     "text": [
      "Training data Evaluation : loss=0.041068 Accuracy=98.9 %\n"
     ]
    },
    {
     "data": {
      "application/vnd.jupyter.widget-view+json": {
       "model_id": "",
       "version_major": 2,
       "version_minor": 0
      },
      "text/plain": [
       "Validation data Evaluate:   0%|                                  | 0/132 [00:00<?, ?it/s]"
      ]
     },
     "metadata": {},
     "output_type": "display_data"
    },
    {
     "name": "stdout",
     "output_type": "stream",
     "text": [
      "Validation data Evaluation : loss=0.055249 Accuracy=98.3 %\n",
      "lr : 0.001 -> 0.001\n",
      "saving : ../modelWeights/SimpleCNN_epoch71_Acc98.3.pth\n"
     ]
    },
    {
     "data": {
      "application/vnd.jupyter.widget-view+json": {
       "model_id": "4d1fba2190944fba8d1ed6268d9d267b",
       "version_major": 2,
       "version_minor": 0
      },
      "text/plain": [
       "Epoch: 72:   0%|                                                 | 0/525 [00:00<?, ?it/s]"
      ]
     },
     "metadata": {},
     "output_type": "display_data"
    },
    {
     "data": {
      "application/vnd.jupyter.widget-view+json": {
       "model_id": "",
       "version_major": 2,
       "version_minor": 0
      },
      "text/plain": [
       "Training data Evaluate:   0%|                                    | 0/525 [00:00<?, ?it/s]"
      ]
     },
     "metadata": {},
     "output_type": "display_data"
    },
    {
     "name": "stdout",
     "output_type": "stream",
     "text": [
      "Training data Evaluation : loss=0.039813 Accuracy=98.9 %\n"
     ]
    },
    {
     "data": {
      "application/vnd.jupyter.widget-view+json": {
       "model_id": "",
       "version_major": 2,
       "version_minor": 0
      },
      "text/plain": [
       "Validation data Evaluate:   0%|                                  | 0/132 [00:00<?, ?it/s]"
      ]
     },
     "metadata": {},
     "output_type": "display_data"
    },
    {
     "name": "stdout",
     "output_type": "stream",
     "text": [
      "Validation data Evaluation : loss=0.053755 Accuracy=98.4 %\n",
      "lr : 0.001 -> 0.001\n",
      "saving : ../modelWeights/SimpleCNN_epoch72_Acc98.4.pth\n"
     ]
    },
    {
     "data": {
      "application/vnd.jupyter.widget-view+json": {
       "model_id": "067d5000d5cc499ebd222304c0320473",
       "version_major": 2,
       "version_minor": 0
      },
      "text/plain": [
       "Epoch: 73:   0%|                                                 | 0/525 [00:00<?, ?it/s]"
      ]
     },
     "metadata": {},
     "output_type": "display_data"
    },
    {
     "data": {
      "application/vnd.jupyter.widget-view+json": {
       "model_id": "",
       "version_major": 2,
       "version_minor": 0
      },
      "text/plain": [
       "Training data Evaluate:   0%|                                    | 0/525 [00:00<?, ?it/s]"
      ]
     },
     "metadata": {},
     "output_type": "display_data"
    },
    {
     "name": "stdout",
     "output_type": "stream",
     "text": [
      "Training data Evaluation : loss=0.040009 Accuracy=98.9 %\n"
     ]
    },
    {
     "data": {
      "application/vnd.jupyter.widget-view+json": {
       "model_id": "",
       "version_major": 2,
       "version_minor": 0
      },
      "text/plain": [
       "Validation data Evaluate:   0%|                                  | 0/132 [00:00<?, ?it/s]"
      ]
     },
     "metadata": {},
     "output_type": "display_data"
    },
    {
     "name": "stdout",
     "output_type": "stream",
     "text": [
      "Validation data Evaluation : loss=0.053909 Accuracy=98.4 %\n",
      "lr : 0.001 -> 0.001\n",
      "saving : ../modelWeights/SimpleCNN_epoch73_Acc98.4.pth\n"
     ]
    },
    {
     "data": {
      "application/vnd.jupyter.widget-view+json": {
       "model_id": "3146c66c03554845b3d9d09983153ea5",
       "version_major": 2,
       "version_minor": 0
      },
      "text/plain": [
       "Epoch: 74:   0%|                                                 | 0/525 [00:00<?, ?it/s]"
      ]
     },
     "metadata": {},
     "output_type": "display_data"
    },
    {
     "data": {
      "application/vnd.jupyter.widget-view+json": {
       "model_id": "",
       "version_major": 2,
       "version_minor": 0
      },
      "text/plain": [
       "Training data Evaluate:   0%|                                    | 0/525 [00:00<?, ?it/s]"
      ]
     },
     "metadata": {},
     "output_type": "display_data"
    },
    {
     "name": "stdout",
     "output_type": "stream",
     "text": [
      "Training data Evaluation : loss=0.039189 Accuracy=98.9 %\n"
     ]
    },
    {
     "data": {
      "application/vnd.jupyter.widget-view+json": {
       "model_id": "",
       "version_major": 2,
       "version_minor": 0
      },
      "text/plain": [
       "Validation data Evaluate:   0%|                                  | 0/132 [00:00<?, ?it/s]"
      ]
     },
     "metadata": {},
     "output_type": "display_data"
    },
    {
     "name": "stdout",
     "output_type": "stream",
     "text": [
      "Validation data Evaluation : loss=0.053714 Accuracy=98.4 %\n",
      "lr : 0.001 -> 0.001\n",
      "saving : ../modelWeights/SimpleCNN_epoch74_Acc98.4.pth\n"
     ]
    },
    {
     "data": {
      "application/vnd.jupyter.widget-view+json": {
       "model_id": "c43a6d61fbc14db286e1b35f93b10516",
       "version_major": 2,
       "version_minor": 0
      },
      "text/plain": [
       "Epoch: 75:   0%|                                                 | 0/525 [00:00<?, ?it/s]"
      ]
     },
     "metadata": {},
     "output_type": "display_data"
    },
    {
     "data": {
      "application/vnd.jupyter.widget-view+json": {
       "model_id": "",
       "version_major": 2,
       "version_minor": 0
      },
      "text/plain": [
       "Training data Evaluate:   0%|                                    | 0/525 [00:00<?, ?it/s]"
      ]
     },
     "metadata": {},
     "output_type": "display_data"
    },
    {
     "name": "stdout",
     "output_type": "stream",
     "text": [
      "Training data Evaluation : loss=0.038891 Accuracy=99.0 %\n"
     ]
    },
    {
     "data": {
      "application/vnd.jupyter.widget-view+json": {
       "model_id": "",
       "version_major": 2,
       "version_minor": 0
      },
      "text/plain": [
       "Validation data Evaluate:   0%|                                  | 0/132 [00:00<?, ?it/s]"
      ]
     },
     "metadata": {},
     "output_type": "display_data"
    },
    {
     "name": "stdout",
     "output_type": "stream",
     "text": [
      "Validation data Evaluation : loss=0.053502 Accuracy=98.3 %\n",
      "lr : 0.001 -> 0.001\n",
      "saving : ../modelWeights/SimpleCNN_epoch75_Acc98.3.pth\n"
     ]
    },
    {
     "data": {
      "application/vnd.jupyter.widget-view+json": {
       "model_id": "e01be1826b5d4863ae5ecd9b00366415",
       "version_major": 2,
       "version_minor": 0
      },
      "text/plain": [
       "Epoch: 76:   0%|                                                 | 0/525 [00:00<?, ?it/s]"
      ]
     },
     "metadata": {},
     "output_type": "display_data"
    },
    {
     "data": {
      "application/vnd.jupyter.widget-view+json": {
       "model_id": "",
       "version_major": 2,
       "version_minor": 0
      },
      "text/plain": [
       "Training data Evaluate:   0%|                                    | 0/525 [00:00<?, ?it/s]"
      ]
     },
     "metadata": {},
     "output_type": "display_data"
    },
    {
     "name": "stdout",
     "output_type": "stream",
     "text": [
      "Training data Evaluation : loss=0.038275 Accuracy=99.0 %\n"
     ]
    },
    {
     "data": {
      "application/vnd.jupyter.widget-view+json": {
       "model_id": "",
       "version_major": 2,
       "version_minor": 0
      },
      "text/plain": [
       "Validation data Evaluate:   0%|                                  | 0/132 [00:00<?, ?it/s]"
      ]
     },
     "metadata": {},
     "output_type": "display_data"
    },
    {
     "name": "stdout",
     "output_type": "stream",
     "text": [
      "Validation data Evaluation : loss=0.052846 Accuracy=98.4 %\n",
      "lr : 0.001 -> 0.001\n",
      "saving : ../modelWeights/SimpleCNN_epoch76_Acc98.4.pth\n"
     ]
    },
    {
     "data": {
      "application/vnd.jupyter.widget-view+json": {
       "model_id": "a9f782194feb434c81291bf3f06ad2b6",
       "version_major": 2,
       "version_minor": 0
      },
      "text/plain": [
       "Epoch: 77:   0%|                                                 | 0/525 [00:00<?, ?it/s]"
      ]
     },
     "metadata": {},
     "output_type": "display_data"
    },
    {
     "data": {
      "application/vnd.jupyter.widget-view+json": {
       "model_id": "",
       "version_major": 2,
       "version_minor": 0
      },
      "text/plain": [
       "Training data Evaluate:   0%|                                    | 0/525 [00:00<?, ?it/s]"
      ]
     },
     "metadata": {},
     "output_type": "display_data"
    },
    {
     "name": "stdout",
     "output_type": "stream",
     "text": [
      "Training data Evaluation : loss=0.037791 Accuracy=99.0 %\n"
     ]
    },
    {
     "data": {
      "application/vnd.jupyter.widget-view+json": {
       "model_id": "",
       "version_major": 2,
       "version_minor": 0
      },
      "text/plain": [
       "Validation data Evaluate:   0%|                                  | 0/132 [00:00<?, ?it/s]"
      ]
     },
     "metadata": {},
     "output_type": "display_data"
    },
    {
     "name": "stdout",
     "output_type": "stream",
     "text": [
      "Validation data Evaluation : loss=0.052646 Accuracy=98.5 %\n",
      "lr : 0.001 -> 0.001\n",
      "saving : ../modelWeights/SimpleCNN_epoch77_Acc98.5.pth\n"
     ]
    },
    {
     "data": {
      "application/vnd.jupyter.widget-view+json": {
       "model_id": "afb83cfbd8e64459ac55de7559af5ee1",
       "version_major": 2,
       "version_minor": 0
      },
      "text/plain": [
       "Epoch: 78:   0%|                                                 | 0/525 [00:00<?, ?it/s]"
      ]
     },
     "metadata": {},
     "output_type": "display_data"
    },
    {
     "data": {
      "application/vnd.jupyter.widget-view+json": {
       "model_id": "",
       "version_major": 2,
       "version_minor": 0
      },
      "text/plain": [
       "Training data Evaluate:   0%|                                    | 0/525 [00:00<?, ?it/s]"
      ]
     },
     "metadata": {},
     "output_type": "display_data"
    },
    {
     "name": "stdout",
     "output_type": "stream",
     "text": [
      "Training data Evaluation : loss=0.037435 Accuracy=99.0 %\n"
     ]
    },
    {
     "data": {
      "application/vnd.jupyter.widget-view+json": {
       "model_id": "",
       "version_major": 2,
       "version_minor": 0
      },
      "text/plain": [
       "Validation data Evaluate:   0%|                                  | 0/132 [00:00<?, ?it/s]"
      ]
     },
     "metadata": {},
     "output_type": "display_data"
    },
    {
     "name": "stdout",
     "output_type": "stream",
     "text": [
      "Validation data Evaluation : loss=0.052819 Accuracy=98.4 %\n",
      "lr : 0.001 -> 0.001\n",
      "saving : ../modelWeights/SimpleCNN_epoch78_Acc98.4.pth\n"
     ]
    },
    {
     "data": {
      "application/vnd.jupyter.widget-view+json": {
       "model_id": "849fe7eb0daa493fb6b94bac138abf34",
       "version_major": 2,
       "version_minor": 0
      },
      "text/plain": [
       "Epoch: 79:   0%|                                                 | 0/525 [00:00<?, ?it/s]"
      ]
     },
     "metadata": {},
     "output_type": "display_data"
    },
    {
     "data": {
      "application/vnd.jupyter.widget-view+json": {
       "model_id": "",
       "version_major": 2,
       "version_minor": 0
      },
      "text/plain": [
       "Training data Evaluate:   0%|                                    | 0/525 [00:00<?, ?it/s]"
      ]
     },
     "metadata": {},
     "output_type": "display_data"
    },
    {
     "name": "stdout",
     "output_type": "stream",
     "text": [
      "Training data Evaluation : loss=0.037378 Accuracy=99.0 %\n"
     ]
    },
    {
     "data": {
      "application/vnd.jupyter.widget-view+json": {
       "model_id": "",
       "version_major": 2,
       "version_minor": 0
      },
      "text/plain": [
       "Validation data Evaluate:   0%|                                  | 0/132 [00:00<?, ?it/s]"
      ]
     },
     "metadata": {},
     "output_type": "display_data"
    },
    {
     "name": "stdout",
     "output_type": "stream",
     "text": [
      "Validation data Evaluation : loss=0.052998 Accuracy=98.4 %\n",
      "lr : 0.001 -> 0.001\n",
      "saving : ../modelWeights/SimpleCNN_epoch79_Acc98.4.pth\n"
     ]
    },
    {
     "data": {
      "application/vnd.jupyter.widget-view+json": {
       "model_id": "d6bef95c433a455182828515881d6296",
       "version_major": 2,
       "version_minor": 0
      },
      "text/plain": [
       "Epoch: 80:   0%|                                                 | 0/525 [00:00<?, ?it/s]"
      ]
     },
     "metadata": {},
     "output_type": "display_data"
    },
    {
     "data": {
      "application/vnd.jupyter.widget-view+json": {
       "model_id": "",
       "version_major": 2,
       "version_minor": 0
      },
      "text/plain": [
       "Training data Evaluate:   0%|                                    | 0/525 [00:00<?, ?it/s]"
      ]
     },
     "metadata": {},
     "output_type": "display_data"
    },
    {
     "name": "stdout",
     "output_type": "stream",
     "text": [
      "Training data Evaluation : loss=0.036683 Accuracy=99.0 %\n"
     ]
    },
    {
     "data": {
      "application/vnd.jupyter.widget-view+json": {
       "model_id": "",
       "version_major": 2,
       "version_minor": 0
      },
      "text/plain": [
       "Validation data Evaluate:   0%|                                  | 0/132 [00:00<?, ?it/s]"
      ]
     },
     "metadata": {},
     "output_type": "display_data"
    },
    {
     "name": "stdout",
     "output_type": "stream",
     "text": [
      "Validation data Evaluation : loss=0.052376 Accuracy=98.4 %\n",
      "lr : 0.001 -> 0.001\n",
      "saving : ../modelWeights/SimpleCNN_epoch80_Acc98.4.pth\n"
     ]
    },
    {
     "data": {
      "application/vnd.jupyter.widget-view+json": {
       "model_id": "a98408bf501441af98822c2112351deb",
       "version_major": 2,
       "version_minor": 0
      },
      "text/plain": [
       "Epoch: 81:   0%|                                                 | 0/525 [00:00<?, ?it/s]"
      ]
     },
     "metadata": {},
     "output_type": "display_data"
    },
    {
     "data": {
      "application/vnd.jupyter.widget-view+json": {
       "model_id": "",
       "version_major": 2,
       "version_minor": 0
      },
      "text/plain": [
       "Training data Evaluate:   0%|                                    | 0/525 [00:00<?, ?it/s]"
      ]
     },
     "metadata": {},
     "output_type": "display_data"
    },
    {
     "name": "stdout",
     "output_type": "stream",
     "text": [
      "Training data Evaluation : loss=0.036473 Accuracy=99.0 %\n"
     ]
    },
    {
     "data": {
      "application/vnd.jupyter.widget-view+json": {
       "model_id": "",
       "version_major": 2,
       "version_minor": 0
      },
      "text/plain": [
       "Validation data Evaluate:   0%|                                  | 0/132 [00:00<?, ?it/s]"
      ]
     },
     "metadata": {},
     "output_type": "display_data"
    },
    {
     "name": "stdout",
     "output_type": "stream",
     "text": [
      "Validation data Evaluation : loss=0.052324 Accuracy=98.4 %\n",
      "lr : 0.001 -> 0.001\n",
      "saving : ../modelWeights/SimpleCNN_epoch81_Acc98.4.pth\n"
     ]
    },
    {
     "data": {
      "application/vnd.jupyter.widget-view+json": {
       "model_id": "4b984ec1f0ed4d7fb66b4616630ac2ab",
       "version_major": 2,
       "version_minor": 0
      },
      "text/plain": [
       "Epoch: 82:   0%|                                                 | 0/525 [00:00<?, ?it/s]"
      ]
     },
     "metadata": {},
     "output_type": "display_data"
    },
    {
     "data": {
      "application/vnd.jupyter.widget-view+json": {
       "model_id": "",
       "version_major": 2,
       "version_minor": 0
      },
      "text/plain": [
       "Training data Evaluate:   0%|                                    | 0/525 [00:00<?, ?it/s]"
      ]
     },
     "metadata": {},
     "output_type": "display_data"
    },
    {
     "name": "stdout",
     "output_type": "stream",
     "text": [
      "Training data Evaluation : loss=0.036323 Accuracy=99.1 %\n"
     ]
    },
    {
     "data": {
      "application/vnd.jupyter.widget-view+json": {
       "model_id": "",
       "version_major": 2,
       "version_minor": 0
      },
      "text/plain": [
       "Validation data Evaluate:   0%|                                  | 0/132 [00:00<?, ?it/s]"
      ]
     },
     "metadata": {},
     "output_type": "display_data"
    },
    {
     "name": "stdout",
     "output_type": "stream",
     "text": [
      "Validation data Evaluation : loss=0.052302 Accuracy=98.4 %\n",
      "lr : 0.001 -> 0.001\n",
      "saving : ../modelWeights/SimpleCNN_epoch82_Acc98.4.pth\n"
     ]
    },
    {
     "data": {
      "application/vnd.jupyter.widget-view+json": {
       "model_id": "c45a6739066848a5b38de6515f0fd157",
       "version_major": 2,
       "version_minor": 0
      },
      "text/plain": [
       "Epoch: 83:   0%|                                                 | 0/525 [00:00<?, ?it/s]"
      ]
     },
     "metadata": {},
     "output_type": "display_data"
    },
    {
     "data": {
      "application/vnd.jupyter.widget-view+json": {
       "model_id": "",
       "version_major": 2,
       "version_minor": 0
      },
      "text/plain": [
       "Training data Evaluate:   0%|                                    | 0/525 [00:00<?, ?it/s]"
      ]
     },
     "metadata": {},
     "output_type": "display_data"
    },
    {
     "name": "stdout",
     "output_type": "stream",
     "text": [
      "Training data Evaluation : loss=0.035830 Accuracy=99.1 %\n"
     ]
    },
    {
     "data": {
      "application/vnd.jupyter.widget-view+json": {
       "model_id": "",
       "version_major": 2,
       "version_minor": 0
      },
      "text/plain": [
       "Validation data Evaluate:   0%|                                  | 0/132 [00:00<?, ?it/s]"
      ]
     },
     "metadata": {},
     "output_type": "display_data"
    },
    {
     "name": "stdout",
     "output_type": "stream",
     "text": [
      "Validation data Evaluation : loss=0.052942 Accuracy=98.4 %\n",
      "lr : 0.001 -> 0.001\n",
      "saving : ../modelWeights/SimpleCNN_epoch83_Acc98.4.pth\n"
     ]
    },
    {
     "data": {
      "application/vnd.jupyter.widget-view+json": {
       "model_id": "3d7004cd3b2645eb87c0e22a3a93ae66",
       "version_major": 2,
       "version_minor": 0
      },
      "text/plain": [
       "Epoch: 84:   0%|                                                 | 0/525 [00:00<?, ?it/s]"
      ]
     },
     "metadata": {},
     "output_type": "display_data"
    },
    {
     "data": {
      "application/vnd.jupyter.widget-view+json": {
       "model_id": "",
       "version_major": 2,
       "version_minor": 0
      },
      "text/plain": [
       "Training data Evaluate:   0%|                                    | 0/525 [00:00<?, ?it/s]"
      ]
     },
     "metadata": {},
     "output_type": "display_data"
    },
    {
     "name": "stdout",
     "output_type": "stream",
     "text": [
      "Training data Evaluation : loss=0.035657 Accuracy=99.1 %\n"
     ]
    },
    {
     "data": {
      "application/vnd.jupyter.widget-view+json": {
       "model_id": "",
       "version_major": 2,
       "version_minor": 0
      },
      "text/plain": [
       "Validation data Evaluate:   0%|                                  | 0/132 [00:00<?, ?it/s]"
      ]
     },
     "metadata": {},
     "output_type": "display_data"
    },
    {
     "name": "stdout",
     "output_type": "stream",
     "text": [
      "Validation data Evaluation : loss=0.051608 Accuracy=98.4 %\n",
      "lr : 0.001 -> 0.001\n",
      "saving : ../modelWeights/SimpleCNN_epoch84_Acc98.4.pth\n"
     ]
    },
    {
     "data": {
      "application/vnd.jupyter.widget-view+json": {
       "model_id": "8300d049649049e4bca69ea266b8e11d",
       "version_major": 2,
       "version_minor": 0
      },
      "text/plain": [
       "Epoch: 85:   0%|                                                 | 0/525 [00:00<?, ?it/s]"
      ]
     },
     "metadata": {},
     "output_type": "display_data"
    },
    {
     "data": {
      "application/vnd.jupyter.widget-view+json": {
       "model_id": "",
       "version_major": 2,
       "version_minor": 0
      },
      "text/plain": [
       "Training data Evaluate:   0%|                                    | 0/525 [00:00<?, ?it/s]"
      ]
     },
     "metadata": {},
     "output_type": "display_data"
    },
    {
     "name": "stdout",
     "output_type": "stream",
     "text": [
      "Training data Evaluation : loss=0.035198 Accuracy=99.1 %\n"
     ]
    },
    {
     "data": {
      "application/vnd.jupyter.widget-view+json": {
       "model_id": "",
       "version_major": 2,
       "version_minor": 0
      },
      "text/plain": [
       "Validation data Evaluate:   0%|                                  | 0/132 [00:00<?, ?it/s]"
      ]
     },
     "metadata": {},
     "output_type": "display_data"
    },
    {
     "name": "stdout",
     "output_type": "stream",
     "text": [
      "Validation data Evaluation : loss=0.051565 Accuracy=98.5 %\n",
      "lr : 0.001 -> 0.001\n",
      "saving : ../modelWeights/SimpleCNN_epoch85_Acc98.5.pth\n"
     ]
    },
    {
     "data": {
      "application/vnd.jupyter.widget-view+json": {
       "model_id": "849ad0f2e0ea4385b0715b268c36bb4b",
       "version_major": 2,
       "version_minor": 0
      },
      "text/plain": [
       "Epoch: 86:   0%|                                                 | 0/525 [00:00<?, ?it/s]"
      ]
     },
     "metadata": {},
     "output_type": "display_data"
    },
    {
     "data": {
      "application/vnd.jupyter.widget-view+json": {
       "model_id": "",
       "version_major": 2,
       "version_minor": 0
      },
      "text/plain": [
       "Training data Evaluate:   0%|                                    | 0/525 [00:00<?, ?it/s]"
      ]
     },
     "metadata": {},
     "output_type": "display_data"
    },
    {
     "name": "stdout",
     "output_type": "stream",
     "text": [
      "Training data Evaluation : loss=0.034810 Accuracy=99.1 %\n"
     ]
    },
    {
     "data": {
      "application/vnd.jupyter.widget-view+json": {
       "model_id": "",
       "version_major": 2,
       "version_minor": 0
      },
      "text/plain": [
       "Validation data Evaluate:   0%|                                  | 0/132 [00:00<?, ?it/s]"
      ]
     },
     "metadata": {},
     "output_type": "display_data"
    },
    {
     "name": "stdout",
     "output_type": "stream",
     "text": [
      "Validation data Evaluation : loss=0.051239 Accuracy=98.4 %\n",
      "lr : 0.001 -> 0.001\n",
      "saving : ../modelWeights/SimpleCNN_epoch86_Acc98.4.pth\n"
     ]
    },
    {
     "data": {
      "application/vnd.jupyter.widget-view+json": {
       "model_id": "ce966664d14f4343aa069d5a77df1d3f",
       "version_major": 2,
       "version_minor": 0
      },
      "text/plain": [
       "Epoch: 87:   0%|                                                 | 0/525 [00:00<?, ?it/s]"
      ]
     },
     "metadata": {},
     "output_type": "display_data"
    },
    {
     "data": {
      "application/vnd.jupyter.widget-view+json": {
       "model_id": "",
       "version_major": 2,
       "version_minor": 0
      },
      "text/plain": [
       "Training data Evaluate:   0%|                                    | 0/525 [00:00<?, ?it/s]"
      ]
     },
     "metadata": {},
     "output_type": "display_data"
    },
    {
     "name": "stdout",
     "output_type": "stream",
     "text": [
      "Training data Evaluation : loss=0.034542 Accuracy=99.1 %\n"
     ]
    },
    {
     "data": {
      "application/vnd.jupyter.widget-view+json": {
       "model_id": "",
       "version_major": 2,
       "version_minor": 0
      },
      "text/plain": [
       "Validation data Evaluate:   0%|                                  | 0/132 [00:00<?, ?it/s]"
      ]
     },
     "metadata": {},
     "output_type": "display_data"
    },
    {
     "name": "stdout",
     "output_type": "stream",
     "text": [
      "Validation data Evaluation : loss=0.052654 Accuracy=98.4 %\n",
      "lr : 0.001 -> 0.001\n",
      "saving : ../modelWeights/SimpleCNN_epoch87_Acc98.4.pth\n"
     ]
    },
    {
     "data": {
      "application/vnd.jupyter.widget-view+json": {
       "model_id": "45d87ef00f084c55a64de4dde1c601dc",
       "version_major": 2,
       "version_minor": 0
      },
      "text/plain": [
       "Epoch: 88:   0%|                                                 | 0/525 [00:00<?, ?it/s]"
      ]
     },
     "metadata": {},
     "output_type": "display_data"
    },
    {
     "data": {
      "application/vnd.jupyter.widget-view+json": {
       "model_id": "",
       "version_major": 2,
       "version_minor": 0
      },
      "text/plain": [
       "Training data Evaluate:   0%|                                    | 0/525 [00:00<?, ?it/s]"
      ]
     },
     "metadata": {},
     "output_type": "display_data"
    },
    {
     "name": "stdout",
     "output_type": "stream",
     "text": [
      "Training data Evaluation : loss=0.034130 Accuracy=99.2 %\n"
     ]
    },
    {
     "data": {
      "application/vnd.jupyter.widget-view+json": {
       "model_id": "",
       "version_major": 2,
       "version_minor": 0
      },
      "text/plain": [
       "Validation data Evaluate:   0%|                                  | 0/132 [00:00<?, ?it/s]"
      ]
     },
     "metadata": {},
     "output_type": "display_data"
    },
    {
     "name": "stdout",
     "output_type": "stream",
     "text": [
      "Validation data Evaluation : loss=0.050988 Accuracy=98.5 %\n",
      "lr : 0.001 -> 0.001\n",
      "saving : ../modelWeights/SimpleCNN_epoch88_Acc98.5.pth\n"
     ]
    },
    {
     "data": {
      "application/vnd.jupyter.widget-view+json": {
       "model_id": "3e908f3e50d94868823fe87a9d817b12",
       "version_major": 2,
       "version_minor": 0
      },
      "text/plain": [
       "Epoch: 89:   0%|                                                 | 0/525 [00:00<?, ?it/s]"
      ]
     },
     "metadata": {},
     "output_type": "display_data"
    },
    {
     "data": {
      "application/vnd.jupyter.widget-view+json": {
       "model_id": "",
       "version_major": 2,
       "version_minor": 0
      },
      "text/plain": [
       "Training data Evaluate:   0%|                                    | 0/525 [00:00<?, ?it/s]"
      ]
     },
     "metadata": {},
     "output_type": "display_data"
    },
    {
     "name": "stdout",
     "output_type": "stream",
     "text": [
      "Training data Evaluation : loss=0.033923 Accuracy=99.1 %\n"
     ]
    },
    {
     "data": {
      "application/vnd.jupyter.widget-view+json": {
       "model_id": "",
       "version_major": 2,
       "version_minor": 0
      },
      "text/plain": [
       "Validation data Evaluate:   0%|                                  | 0/132 [00:00<?, ?it/s]"
      ]
     },
     "metadata": {},
     "output_type": "display_data"
    },
    {
     "name": "stdout",
     "output_type": "stream",
     "text": [
      "Validation data Evaluation : loss=0.050471 Accuracy=98.4 %\n",
      "lr : 0.001 -> 0.001\n",
      "saving : ../modelWeights/SimpleCNN_epoch89_Acc98.4.pth\n"
     ]
    },
    {
     "data": {
      "application/vnd.jupyter.widget-view+json": {
       "model_id": "86bfc45780b8424dba8530512ca87dd1",
       "version_major": 2,
       "version_minor": 0
      },
      "text/plain": [
       "Epoch: 90:   0%|                                                 | 0/525 [00:00<?, ?it/s]"
      ]
     },
     "metadata": {},
     "output_type": "display_data"
    },
    {
     "data": {
      "application/vnd.jupyter.widget-view+json": {
       "model_id": "",
       "version_major": 2,
       "version_minor": 0
      },
      "text/plain": [
       "Training data Evaluate:   0%|                                    | 0/525 [00:00<?, ?it/s]"
      ]
     },
     "metadata": {},
     "output_type": "display_data"
    },
    {
     "name": "stdout",
     "output_type": "stream",
     "text": [
      "Training data Evaluation : loss=0.033362 Accuracy=99.2 %\n"
     ]
    },
    {
     "data": {
      "application/vnd.jupyter.widget-view+json": {
       "model_id": "",
       "version_major": 2,
       "version_minor": 0
      },
      "text/plain": [
       "Validation data Evaluate:   0%|                                  | 0/132 [00:00<?, ?it/s]"
      ]
     },
     "metadata": {},
     "output_type": "display_data"
    },
    {
     "name": "stdout",
     "output_type": "stream",
     "text": [
      "Validation data Evaluation : loss=0.051594 Accuracy=98.5 %\n",
      "lr : 0.001 -> 0.001\n",
      "saving : ../modelWeights/SimpleCNN_epoch90_Acc98.5.pth\n"
     ]
    },
    {
     "data": {
      "application/vnd.jupyter.widget-view+json": {
       "model_id": "901b09e34bde46fdaa5bae1b71f1eaa7",
       "version_major": 2,
       "version_minor": 0
      },
      "text/plain": [
       "Epoch: 91:   0%|                                                 | 0/525 [00:00<?, ?it/s]"
      ]
     },
     "metadata": {},
     "output_type": "display_data"
    },
    {
     "data": {
      "application/vnd.jupyter.widget-view+json": {
       "model_id": "",
       "version_major": 2,
       "version_minor": 0
      },
      "text/plain": [
       "Training data Evaluate:   0%|                                    | 0/525 [00:00<?, ?it/s]"
      ]
     },
     "metadata": {},
     "output_type": "display_data"
    },
    {
     "name": "stdout",
     "output_type": "stream",
     "text": [
      "Training data Evaluation : loss=0.033041 Accuracy=99.2 %\n"
     ]
    },
    {
     "data": {
      "application/vnd.jupyter.widget-view+json": {
       "model_id": "",
       "version_major": 2,
       "version_minor": 0
      },
      "text/plain": [
       "Validation data Evaluate:   0%|                                  | 0/132 [00:00<?, ?it/s]"
      ]
     },
     "metadata": {},
     "output_type": "display_data"
    },
    {
     "name": "stdout",
     "output_type": "stream",
     "text": [
      "Validation data Evaluation : loss=0.050882 Accuracy=98.5 %\n",
      "lr : 0.001 -> 0.001\n",
      "saving : ../modelWeights/SimpleCNN_epoch91_Acc98.5.pth\n"
     ]
    },
    {
     "data": {
      "application/vnd.jupyter.widget-view+json": {
       "model_id": "f092c263922c4fb0bcc548836d6602b0",
       "version_major": 2,
       "version_minor": 0
      },
      "text/plain": [
       "Epoch: 92:   0%|                                                 | 0/525 [00:00<?, ?it/s]"
      ]
     },
     "metadata": {},
     "output_type": "display_data"
    },
    {
     "data": {
      "application/vnd.jupyter.widget-view+json": {
       "model_id": "",
       "version_major": 2,
       "version_minor": 0
      },
      "text/plain": [
       "Training data Evaluate:   0%|                                    | 0/525 [00:00<?, ?it/s]"
      ]
     },
     "metadata": {},
     "output_type": "display_data"
    },
    {
     "name": "stdout",
     "output_type": "stream",
     "text": [
      "Training data Evaluation : loss=0.033054 Accuracy=99.2 %\n"
     ]
    },
    {
     "data": {
      "application/vnd.jupyter.widget-view+json": {
       "model_id": "",
       "version_major": 2,
       "version_minor": 0
      },
      "text/plain": [
       "Validation data Evaluate:   0%|                                  | 0/132 [00:00<?, ?it/s]"
      ]
     },
     "metadata": {},
     "output_type": "display_data"
    },
    {
     "name": "stdout",
     "output_type": "stream",
     "text": [
      "Validation data Evaluation : loss=0.051129 Accuracy=98.5 %\n",
      "lr : 0.001 -> 0.001\n",
      "saving : ../modelWeights/SimpleCNN_epoch92_Acc98.5.pth\n"
     ]
    },
    {
     "data": {
      "application/vnd.jupyter.widget-view+json": {
       "model_id": "873e53a0e8e74b0381be52e287a5dab9",
       "version_major": 2,
       "version_minor": 0
      },
      "text/plain": [
       "Epoch: 93:   0%|                                                 | 0/525 [00:00<?, ?it/s]"
      ]
     },
     "metadata": {},
     "output_type": "display_data"
    },
    {
     "data": {
      "application/vnd.jupyter.widget-view+json": {
       "model_id": "",
       "version_major": 2,
       "version_minor": 0
      },
      "text/plain": [
       "Training data Evaluate:   0%|                                    | 0/525 [00:00<?, ?it/s]"
      ]
     },
     "metadata": {},
     "output_type": "display_data"
    },
    {
     "name": "stdout",
     "output_type": "stream",
     "text": [
      "Training data Evaluation : loss=0.032607 Accuracy=99.2 %\n"
     ]
    },
    {
     "data": {
      "application/vnd.jupyter.widget-view+json": {
       "model_id": "",
       "version_major": 2,
       "version_minor": 0
      },
      "text/plain": [
       "Validation data Evaluate:   0%|                                  | 0/132 [00:00<?, ?it/s]"
      ]
     },
     "metadata": {},
     "output_type": "display_data"
    },
    {
     "name": "stdout",
     "output_type": "stream",
     "text": [
      "Validation data Evaluation : loss=0.050510 Accuracy=98.4 %\n",
      "lr : 0.001 -> 0.0005\n",
      "saving : ../modelWeights/SimpleCNN_epoch93_Acc98.4.pth\n"
     ]
    },
    {
     "data": {
      "application/vnd.jupyter.widget-view+json": {
       "model_id": "27ee9b16141542a49ef320a4cea05959",
       "version_major": 2,
       "version_minor": 0
      },
      "text/plain": [
       "Epoch: 94:   0%|                                                 | 0/525 [00:00<?, ?it/s]"
      ]
     },
     "metadata": {},
     "output_type": "display_data"
    },
    {
     "data": {
      "application/vnd.jupyter.widget-view+json": {
       "model_id": "",
       "version_major": 2,
       "version_minor": 0
      },
      "text/plain": [
       "Training data Evaluate:   0%|                                    | 0/525 [00:00<?, ?it/s]"
      ]
     },
     "metadata": {},
     "output_type": "display_data"
    },
    {
     "name": "stdout",
     "output_type": "stream",
     "text": [
      "Training data Evaluation : loss=0.032236 Accuracy=99.2 %\n"
     ]
    },
    {
     "data": {
      "application/vnd.jupyter.widget-view+json": {
       "model_id": "",
       "version_major": 2,
       "version_minor": 0
      },
      "text/plain": [
       "Validation data Evaluate:   0%|                                  | 0/132 [00:00<?, ?it/s]"
      ]
     },
     "metadata": {},
     "output_type": "display_data"
    },
    {
     "name": "stdout",
     "output_type": "stream",
     "text": [
      "Validation data Evaluation : loss=0.049973 Accuracy=98.5 %\n",
      "lr : 0.0005 -> 0.0005\n",
      "saving : ../modelWeights/SimpleCNN_epoch94_Acc98.5.pth\n"
     ]
    },
    {
     "data": {
      "application/vnd.jupyter.widget-view+json": {
       "model_id": "9f5630982ee3446eabfc0b06b7845572",
       "version_major": 2,
       "version_minor": 0
      },
      "text/plain": [
       "Epoch: 95:   0%|                                                 | 0/525 [00:00<?, ?it/s]"
      ]
     },
     "metadata": {},
     "output_type": "display_data"
    },
    {
     "data": {
      "application/vnd.jupyter.widget-view+json": {
       "model_id": "",
       "version_major": 2,
       "version_minor": 0
      },
      "text/plain": [
       "Training data Evaluate:   0%|                                    | 0/525 [00:00<?, ?it/s]"
      ]
     },
     "metadata": {},
     "output_type": "display_data"
    },
    {
     "name": "stdout",
     "output_type": "stream",
     "text": [
      "Training data Evaluation : loss=0.031950 Accuracy=99.2 %\n"
     ]
    },
    {
     "data": {
      "application/vnd.jupyter.widget-view+json": {
       "model_id": "",
       "version_major": 2,
       "version_minor": 0
      },
      "text/plain": [
       "Validation data Evaluate:   0%|                                  | 0/132 [00:00<?, ?it/s]"
      ]
     },
     "metadata": {},
     "output_type": "display_data"
    },
    {
     "name": "stdout",
     "output_type": "stream",
     "text": [
      "Validation data Evaluation : loss=0.049507 Accuracy=98.5 %\n",
      "lr : 0.0005 -> 0.0005\n",
      "saving : ../modelWeights/SimpleCNN_epoch95_Acc98.5.pth\n"
     ]
    },
    {
     "data": {
      "application/vnd.jupyter.widget-view+json": {
       "model_id": "37908bd6ba9148d5b29cdb5f35062ec8",
       "version_major": 2,
       "version_minor": 0
      },
      "text/plain": [
       "Epoch: 96:   0%|                                                 | 0/525 [00:00<?, ?it/s]"
      ]
     },
     "metadata": {},
     "output_type": "display_data"
    },
    {
     "data": {
      "application/vnd.jupyter.widget-view+json": {
       "model_id": "",
       "version_major": 2,
       "version_minor": 0
      },
      "text/plain": [
       "Training data Evaluate:   0%|                                    | 0/525 [00:00<?, ?it/s]"
      ]
     },
     "metadata": {},
     "output_type": "display_data"
    },
    {
     "name": "stdout",
     "output_type": "stream",
     "text": [
      "Training data Evaluation : loss=0.031956 Accuracy=99.2 %\n"
     ]
    },
    {
     "data": {
      "application/vnd.jupyter.widget-view+json": {
       "model_id": "",
       "version_major": 2,
       "version_minor": 0
      },
      "text/plain": [
       "Validation data Evaluate:   0%|                                  | 0/132 [00:00<?, ?it/s]"
      ]
     },
     "metadata": {},
     "output_type": "display_data"
    },
    {
     "name": "stdout",
     "output_type": "stream",
     "text": [
      "Validation data Evaluation : loss=0.049914 Accuracy=98.5 %\n",
      "lr : 0.0005 -> 0.0005\n",
      "saving : ../modelWeights/SimpleCNN_epoch96_Acc98.5.pth\n"
     ]
    },
    {
     "data": {
      "application/vnd.jupyter.widget-view+json": {
       "model_id": "4b7106695338430bbaa6ee6bf32153a2",
       "version_major": 2,
       "version_minor": 0
      },
      "text/plain": [
       "Epoch: 97:   0%|                                                 | 0/525 [00:00<?, ?it/s]"
      ]
     },
     "metadata": {},
     "output_type": "display_data"
    },
    {
     "data": {
      "application/vnd.jupyter.widget-view+json": {
       "model_id": "",
       "version_major": 2,
       "version_minor": 0
      },
      "text/plain": [
       "Training data Evaluate:   0%|                                    | 0/525 [00:00<?, ?it/s]"
      ]
     },
     "metadata": {},
     "output_type": "display_data"
    },
    {
     "name": "stdout",
     "output_type": "stream",
     "text": [
      "Training data Evaluation : loss=0.031688 Accuracy=99.2 %\n"
     ]
    },
    {
     "data": {
      "application/vnd.jupyter.widget-view+json": {
       "model_id": "",
       "version_major": 2,
       "version_minor": 0
      },
      "text/plain": [
       "Validation data Evaluate:   0%|                                  | 0/132 [00:00<?, ?it/s]"
      ]
     },
     "metadata": {},
     "output_type": "display_data"
    },
    {
     "name": "stdout",
     "output_type": "stream",
     "text": [
      "Validation data Evaluation : loss=0.049662 Accuracy=98.5 %\n",
      "lr : 0.0005 -> 0.0005\n",
      "saving : ../modelWeights/SimpleCNN_epoch97_Acc98.5.pth\n"
     ]
    },
    {
     "data": {
      "application/vnd.jupyter.widget-view+json": {
       "model_id": "9b4a2476e4f34c7eb8d31488d79712a9",
       "version_major": 2,
       "version_minor": 0
      },
      "text/plain": [
       "Epoch: 98:   0%|                                                 | 0/525 [00:00<?, ?it/s]"
      ]
     },
     "metadata": {},
     "output_type": "display_data"
    },
    {
     "data": {
      "application/vnd.jupyter.widget-view+json": {
       "model_id": "",
       "version_major": 2,
       "version_minor": 0
      },
      "text/plain": [
       "Training data Evaluate:   0%|                                    | 0/525 [00:00<?, ?it/s]"
      ]
     },
     "metadata": {},
     "output_type": "display_data"
    },
    {
     "name": "stdout",
     "output_type": "stream",
     "text": [
      "Training data Evaluation : loss=0.031631 Accuracy=99.2 %\n"
     ]
    },
    {
     "data": {
      "application/vnd.jupyter.widget-view+json": {
       "model_id": "",
       "version_major": 2,
       "version_minor": 0
      },
      "text/plain": [
       "Validation data Evaluate:   0%|                                  | 0/132 [00:00<?, ?it/s]"
      ]
     },
     "metadata": {},
     "output_type": "display_data"
    },
    {
     "name": "stdout",
     "output_type": "stream",
     "text": [
      "Validation data Evaluation : loss=0.049595 Accuracy=98.5 %\n",
      "lr : 0.0005 -> 0.0005\n",
      "saving : ../modelWeights/SimpleCNN_epoch98_Acc98.5.pth\n"
     ]
    },
    {
     "data": {
      "application/vnd.jupyter.widget-view+json": {
       "model_id": "b2bfa9a9dd47413e9349ff33725c3ddd",
       "version_major": 2,
       "version_minor": 0
      },
      "text/plain": [
       "Epoch: 99:   0%|                                                 | 0/525 [00:00<?, ?it/s]"
      ]
     },
     "metadata": {},
     "output_type": "display_data"
    },
    {
     "data": {
      "application/vnd.jupyter.widget-view+json": {
       "model_id": "",
       "version_major": 2,
       "version_minor": 0
      },
      "text/plain": [
       "Training data Evaluate:   0%|                                    | 0/525 [00:00<?, ?it/s]"
      ]
     },
     "metadata": {},
     "output_type": "display_data"
    },
    {
     "name": "stdout",
     "output_type": "stream",
     "text": [
      "Training data Evaluation : loss=0.031698 Accuracy=99.2 %\n"
     ]
    },
    {
     "data": {
      "application/vnd.jupyter.widget-view+json": {
       "model_id": "",
       "version_major": 2,
       "version_minor": 0
      },
      "text/plain": [
       "Validation data Evaluate:   0%|                                  | 0/132 [00:00<?, ?it/s]"
      ]
     },
     "metadata": {},
     "output_type": "display_data"
    },
    {
     "name": "stdout",
     "output_type": "stream",
     "text": [
      "Validation data Evaluation : loss=0.049445 Accuracy=98.5 %\n",
      "lr : 0.0005 -> 0.0005\n",
      "saving : ../modelWeights/SimpleCNN_epoch99_Acc98.5.pth\n"
     ]
    },
    {
     "data": {
      "application/vnd.jupyter.widget-view+json": {
       "model_id": "ad8cacfb77824f6fa9f3177e4d61dca0",
       "version_major": 2,
       "version_minor": 0
      },
      "text/plain": [
       "Epoch: 100:   0%|                                                | 0/525 [00:00<?, ?it/s]"
      ]
     },
     "metadata": {},
     "output_type": "display_data"
    },
    {
     "data": {
      "application/vnd.jupyter.widget-view+json": {
       "model_id": "",
       "version_major": 2,
       "version_minor": 0
      },
      "text/plain": [
       "Training data Evaluate:   0%|                                    | 0/525 [00:00<?, ?it/s]"
      ]
     },
     "metadata": {},
     "output_type": "display_data"
    },
    {
     "name": "stdout",
     "output_type": "stream",
     "text": [
      "Training data Evaluation : loss=0.031417 Accuracy=99.2 %\n"
     ]
    },
    {
     "data": {
      "application/vnd.jupyter.widget-view+json": {
       "model_id": "",
       "version_major": 2,
       "version_minor": 0
      },
      "text/plain": [
       "Validation data Evaluate:   0%|                                  | 0/132 [00:00<?, ?it/s]"
      ]
     },
     "metadata": {},
     "output_type": "display_data"
    },
    {
     "name": "stdout",
     "output_type": "stream",
     "text": [
      "Validation data Evaluation : loss=0.049750 Accuracy=98.5 %\n",
      "lr : 0.0005 -> 0.0005\n",
      "saving : ../modelWeights/SimpleCNN_epoch100_Acc98.5.pth\n"
     ]
    }
   ],
   "source": [
    "train(\n",
    "    model,\n",
    "    final_train_dataloader, final_val_dataloader,\n",
    "    epochs=100, learning_rate=1e-3, epoch_offset=0,\n",
    "    save_checkpoint=True\n",
    ")"
   ]
  },
  {
   "cell_type": "code",
   "execution_count": null,
   "metadata": {},
   "outputs": [],
   "source": []
  },
  {
   "cell_type": "code",
   "execution_count": 131,
   "metadata": {},
   "outputs": [],
   "source": [
    "test_dataset = CustomDataset(\"../data/test.csv\", train=False)"
   ]
  },
  {
   "cell_type": "code",
   "execution_count": 132,
   "metadata": {},
   "outputs": [
    {
     "data": {
      "application/vnd.jupyter.widget-view+json": {
       "model_id": "3ab2955fab104e738384bc04094663ab",
       "version_major": 2,
       "version_minor": 0
      },
      "text/plain": [
       "Predict:   0%|                                                 | 0/28000 [00:00<?, ?it/s]"
      ]
     },
     "metadata": {},
     "output_type": "display_data"
    }
   ],
   "source": [
    "outputs = predict(model, device, test_dataset)"
   ]
  },
  {
   "cell_type": "code",
   "execution_count": 133,
   "metadata": {},
   "outputs": [
    {
     "data": {
      "text/html": [
       "<div>\n",
       "<style scoped>\n",
       "    .dataframe tbody tr th:only-of-type {\n",
       "        vertical-align: middle;\n",
       "    }\n",
       "\n",
       "    .dataframe tbody tr th {\n",
       "        vertical-align: top;\n",
       "    }\n",
       "\n",
       "    .dataframe thead th {\n",
       "        text-align: right;\n",
       "    }\n",
       "</style>\n",
       "<table border=\"1\" class=\"dataframe\">\n",
       "  <thead>\n",
       "    <tr style=\"text-align: right;\">\n",
       "      <th></th>\n",
       "      <th>ImageId</th>\n",
       "      <th>Label</th>\n",
       "    </tr>\n",
       "  </thead>\n",
       "  <tbody>\n",
       "    <tr>\n",
       "      <th>0</th>\n",
       "      <td>1</td>\n",
       "      <td>2</td>\n",
       "    </tr>\n",
       "    <tr>\n",
       "      <th>1</th>\n",
       "      <td>2</td>\n",
       "      <td>0</td>\n",
       "    </tr>\n",
       "    <tr>\n",
       "      <th>2</th>\n",
       "      <td>3</td>\n",
       "      <td>9</td>\n",
       "    </tr>\n",
       "    <tr>\n",
       "      <th>3</th>\n",
       "      <td>4</td>\n",
       "      <td>9</td>\n",
       "    </tr>\n",
       "    <tr>\n",
       "      <th>4</th>\n",
       "      <td>5</td>\n",
       "      <td>3</td>\n",
       "    </tr>\n",
       "  </tbody>\n",
       "</table>\n",
       "</div>"
      ],
      "text/plain": [
       "   ImageId  Label\n",
       "0        1      2\n",
       "1        2      0\n",
       "2        3      9\n",
       "3        4      9\n",
       "4        5      3"
      ]
     },
     "execution_count": 133,
     "metadata": {},
     "output_type": "execute_result"
    }
   ],
   "source": [
    "outputs.head()"
   ]
  },
  {
   "cell_type": "code",
   "execution_count": 134,
   "metadata": {},
   "outputs": [
    {
     "name": "stdout",
     "output_type": "stream",
     "text": [
      "ImageId,Label\n",
      "1,2\n",
      "2,0\n",
      "3,9\n",
      "4,9\n",
      "5,3\n"
     ]
    }
   ],
   "source": [
    "outputs.to_csv(\"../submissions//output_SimpleCNN_epoch100_acc98.5.csv\",index=False)\n",
    "\n",
    "!head -n6 ../submissions//output_SimpleCNN_epoch100_acc98.5.csv"
   ]
  },
  {
   "cell_type": "code",
   "execution_count": 135,
   "metadata": {},
   "outputs": [
    {
     "name": "stdout",
     "output_type": "stream",
     "text": [
      "100%|████████████████████████████████████████| 208k/208k [00:03<00:00, 66.5kB/s]\n",
      "400 Client Error: Bad Request for url: https://www.kaggle.com/api/v1/competitions/submissions/submit/digit-recognizer\n"
     ]
    }
   ],
   "source": [
    "!kaggle competitions submit -c digit-recognizer -f ../submissions//output_SimpleCNN_epoch100_acc98.5.csv -m \"SimpleCNN_epoch103\""
   ]
  },
  {
   "cell_type": "code",
   "execution_count": null,
   "metadata": {},
   "outputs": [],
   "source": []
  },
  {
   "cell_type": "code",
   "execution_count": null,
   "metadata": {},
   "outputs": [],
   "source": []
  },
  {
   "cell_type": "code",
   "execution_count": 106,
   "metadata": {},
   "outputs": [
    {
     "data": {
      "application/vnd.jupyter.widget-view+json": {
       "model_id": "bd7299ceea4846d9bf45501aef2c01a3",
       "version_major": 2,
       "version_minor": 0
      },
      "text/plain": [
       "Predict:   0%|                                                 | 0/28000 [00:00<?, ?it/s]"
      ]
     },
     "metadata": {},
     "output_type": "display_data"
    },
    {
     "name": "stdout",
     "output_type": "stream",
     "text": [
      "   ImageId  Label\n",
      "0        1      2\n",
      "1        2      0\n",
      "2        3      9\n",
      "3        4      9\n",
      "4        5      3\n",
      "ImageId,Label\n",
      "1,2\n",
      "2,0\n",
      "3,9\n",
      "4,9\n",
      "5,3\n"
     ]
    }
   ],
   "source": [
    "model = SimpleCNN()\n",
    "model.load_state_dict(torch.load(\"./modelWeights/SimpleANN_epoch75_Acc98.2.pth\"))\n",
    "model.to(device)\n",
    "\n",
    "outputs_2 = predict(model, device, test_dataset)\n",
    "print(outputs_2.head())\n",
    "\n",
    "outputs_2.to_csv(\"../submissions//output_SimpleCNN_epoch75_acc98.2.csv\",index=False)\n",
    "!head -n6 \"../submissions//output_SimpleCNN_epoch75_acc98.2.csv\""
   ]
  },
  {
   "cell_type": "code",
   "execution_count": null,
   "metadata": {},
   "outputs": [],
   "source": []
  }
 ],
 "metadata": {
  "kaggle": {
   "accelerator": "none",
   "dataSources": [
    {
     "databundleVersionId": 861823,
     "sourceId": 3004,
     "sourceType": "competition"
    },
    {
     "isSourceIdPinned": true,
     "modelId": 293239,
     "modelInstanceId": 272261,
     "sourceId": 323169,
     "sourceType": "modelInstanceVersion"
    }
   ],
   "dockerImageVersionId": 30918,
   "isGpuEnabled": false,
   "isInternetEnabled": true,
   "language": "python",
   "sourceType": "notebook"
  },
  "kernelspec": {
   "display_name": "Python 3 (ipykernel)",
   "language": "python",
   "name": "python3"
  },
  "language_info": {
   "codemirror_mode": {
    "name": "ipython",
    "version": 3
   },
   "file_extension": ".py",
   "mimetype": "text/x-python",
   "name": "python",
   "nbconvert_exporter": "python",
   "pygments_lexer": "ipython3",
   "version": "3.12.7"
  }
 },
 "nbformat": 4,
 "nbformat_minor": 4
}
